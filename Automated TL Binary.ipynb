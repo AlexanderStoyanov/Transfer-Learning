{
 "cells": [
  {
   "cell_type": "code",
   "execution_count": 1,
   "metadata": {},
   "outputs": [],
   "source": [
    "#Partially adopted from Tensorflow/docs/basic_text_classification\n",
    "#https://github.com/tensorflow/docs/blob/master/site/en/tutorials/keras/basic_text_classification.ipynb\n",
    "\n",
    "#As well as https://developers.google.com/machine-learning/guides/text-classification/"
   ]
  },
  {
   "cell_type": "code",
   "execution_count": 2,
   "metadata": {
    "scrolled": true
   },
   "outputs": [
    {
     "name": "stderr",
     "output_type": "stream",
     "text": [
      "[nltk_data] Downloading package punkt to /root/nltk_data...\n",
      "[nltk_data]   Package punkt is already up-to-date!\n",
      "[nltk_data] Downloading package stopwords to /root/nltk_data...\n",
      "[nltk_data]   Package stopwords is already up-to-date!\n"
     ]
    }
   ],
   "source": [
    "import tensorflow as tf\n",
    "from tensorflow import keras\n",
    "\n",
    "from sklearn.utils import shuffle\n",
    "from sklearn.feature_extraction.text import TfidfVectorizer\n",
    "from sklearn.feature_selection import SelectKBest\n",
    "from sklearn.feature_selection import f_classif\n",
    "\n",
    "import numpy as np\n",
    "import pandas as pd\n",
    "\n",
    "from data import Data, TestData, WikiData"
   ]
  },
  {
   "cell_type": "code",
   "execution_count": 3,
   "metadata": {
    "scrolled": true
   },
   "outputs": [
    {
     "name": "stdout",
     "output_type": "stream",
     "text": [
      "Labels made successfully\n",
      "Labels made successfully\n"
     ]
    }
   ],
   "source": [
    "data = []\n",
    "noise = []\n",
    "with open('Data/NFR.csv') as f:\n",
    "    # Create two instances of data: fake (noise) and real (data)\n",
    "    for sentence in f:\n",
    "        cl = sentence[:sentence.find(',')]\n",
    "        sentence = sentence[sentence.find(',')+1:]\n",
    "        if cl == 'Usability':\n",
    "            data.append(sentence)\n",
    "        else:\n",
    "            noise.append(sentence)\n",
    "\n",
    "# Create two instances of data from fake and real\n",
    "test_0 = TestData(noise, '0')\n",
    "test_1 = TestData(data, '1')\n",
    "\n",
    "# Balance the data based on min length of both lists\n",
    "deleteAfter = min(len(test_0.data), len(test_1.data))\n",
    "del test_0.data[deleteAfter:]\n",
    "del test_1.data[deleteAfter:]\n",
    "del test_0.labels[deleteAfter:]\n",
    "del test_1.labels[deleteAfter:]\n",
    "\n",
    "# Test that the data is balanced\n",
    "assert len(test_0.data) == len(test_1.data), 'Lengths of test datas are not equal'\n",
    "assert len(test_0.labels) == len(test_1.labels), 'Lengths of test labels are not equal'\n",
    "assert len(test_0.data) == len(test_0.labels), 'Lengths of test data and labels do not match'\n",
    "assert len(test_1.data) == len(test_1.labels), 'Lengths of test data and labels do not match'"
   ]
  },
  {
   "cell_type": "code",
   "execution_count": 4,
   "metadata": {
    "scrolled": false
   },
   "outputs": [
    {
     "name": "stdout",
     "output_type": "stream",
     "text": [
      "Article names in random list: 100\n",
      "Labels made successfully\n",
      "Article names in the usability list: 54\n",
      "Labels made successfully\n"
     ]
    }
   ],
   "source": [
    "# Get train data from Wiki articles\n",
    "train_0 = WikiData(articlesFile='Data/enwiki-latest-all-titles-in-ns0', keyword='rand', size=100, labelValue='0')\n",
    "train_1 = WikiData(articlesFile='Data/enwiki-latest-all-titles-in-ns0', keyword='usability', size=100, labelValue='1')"
   ]
  },
  {
   "cell_type": "code",
   "execution_count": 5,
   "metadata": {
    "scrolled": true
   },
   "outputs": [
    {
     "name": "stdout",
     "output_type": "stream",
     "text": [
      "\n",
      "Test set length: 314\n",
      "Test labels set length: 314\n",
      "\n",
      "Validation set length: 312\n",
      "Validation labels set length: 312\n",
      "\n",
      "Train set length: 5938\n",
      "Train labels set length: 5938\n"
     ]
    }
   ],
   "source": [
    "# Balance the data based on min length of both lists\n",
    "deleteAfter = min(len(train_0.data), len(train_1.data))\n",
    "\n",
    "# If min length is less than 100 sentences, test is invalid\n",
    "assert deleteAfter > 100, 'Train set is too small'\n",
    "\n",
    "del train_0.data[deleteAfter:]\n",
    "del train_1.data[deleteAfter:]\n",
    "del train_0.labels[deleteAfter:]\n",
    "del train_1.labels[deleteAfter:]\n",
    "\n",
    "# Test that the data is balanced\n",
    "assert len(train_0.data) == len(train_1.data), 'Lengths of train datas are not equal'\n",
    "assert len(train_0.labels) == len(train_1.labels), 'Lengths of train labels are not equal'\n",
    "assert len(train_0.data) == len(train_0.labels), 'Lengths of train data and labels do not match'\n",
    "assert len(train_1.data) == len(train_1.labels), 'Lengths of train data and labels do not match'\n",
    "\n",
    "#Collapse into single list\n",
    "trainData = train_0.data + train_1.data\n",
    "trainLabels = train_0.labels + train_1.labels\n",
    "x_test = test_0.data + test_1.data\n",
    "y_test = test_0.labels + test_1.labels\n",
    "\n",
    "#Shuffle two lists, save the order\n",
    "trainData, trainLabels = shuffle(trainData, trainLabels)\n",
    "x_test, y_test = shuffle(x_test, y_test)\n",
    "\n",
    "#Get validation data\n",
    "validationToTrainRatio = 0.05\n",
    "validationSize = int(validationToTrainRatio * len(trainData))\n",
    "validationData = trainData[:validationSize]\n",
    "validationLabels = trainLabels[:validationSize]\n",
    "trainData = trainData[validationSize:]\n",
    "trainLabels = trainLabels[validationSize:]\n",
    "\n",
    "\n",
    "print(\"\\nTest set length: %d\" % len(x_test))\n",
    "print(\"Test labels set length: %d\" % len(y_test))\n",
    "print(\"\\nValidation set length: %d\" % len(validationData))\n",
    "print(\"Validation labels set length: %d\" % len(validationLabels))\n",
    "print(\"\\nTrain set length: %d\" % len(trainData))\n",
    "print(\"Train labels set length: %d\" % len(trainLabels))"
   ]
  },
  {
   "cell_type": "code",
   "execution_count": 6,
   "metadata": {},
   "outputs": [],
   "source": [
    "# Vectorizing train, validation, and test data\n",
    "trainData = train_0.ngram_vectorize(data=trainData, labels=trainLabels)\n",
    "\n",
    "validationData = train_0.ngram_vectorize(\n",
    "    data=validationData,\n",
    "    vectorizer=train_0.vectorizer, \n",
    "    selector=train_0.selector)\n",
    "\n",
    "x_test = train_0.ngram_vectorize(\n",
    "    data=x_test,\n",
    "    vectorizer=train_0.vectorizer, \n",
    "    selector=train_0.selector)"
   ]
  },
  {
   "cell_type": "code",
   "execution_count": 7,
   "metadata": {},
   "outputs": [],
   "source": [
    "# Binary classifier (model) construction method\n",
    "def mlp_model(layers, units, dropout_rate, input_shape, num_classes):\n",
    "    model = keras.Sequential()\n",
    "    model.add(keras.layers.Dropout(rate=dropout_rate, input_shape=input_shape))\n",
    "    for _ in range(layers-1):\n",
    "        model.add(keras.layers.Dense(units=units, activation=tf.nn.relu))\n",
    "        model.add(keras.layers.Dropout(rate=dropout_rate))\n",
    "\n",
    "    model.add(keras.layers.Dense(units=32, activation=tf.nn.relu))\n",
    "    model.add(keras.layers.Dropout(rate=dropout_rate))\n",
    "    model.add(keras.layers.Dense(units=num_classes, activation=tf.nn.sigmoid))\n",
    "    return model"
   ]
  },
  {
   "cell_type": "code",
   "execution_count": 8,
   "metadata": {},
   "outputs": [
    {
     "name": "stdout",
     "output_type": "stream",
     "text": [
      "WARNING:tensorflow:From /usr/local/lib/python3.5/dist-packages/tensorflow/python/keras/layers/core.py:143: calling dropout (from tensorflow.python.ops.nn_ops) with keep_prob is deprecated and will be removed in a future version.\n",
      "Instructions for updating:\n",
      "Please use `rate` instead of `keep_prob`. Rate should be set to `rate = 1 - keep_prob`.\n",
      "WARNING:tensorflow:From /usr/local/lib/python3.5/dist-packages/tensorflow/python/ops/control_flow_ops.py:423: colocate_with (from tensorflow.python.framework.ops) is deprecated and will be removed in a future version.\n",
      "Instructions for updating:\n",
      "Colocations handled automatically by placer.\n",
      "_________________________________________________________________\n",
      "Layer (type)                 Output Shape              Param #   \n",
      "=================================================================\n",
      "dropout (Dropout)            (None, 16402)             0         \n",
      "_________________________________________________________________\n",
      "dense (Dense)                (None, 64)                1049792   \n",
      "_________________________________________________________________\n",
      "dropout_1 (Dropout)          (None, 64)                0         \n",
      "_________________________________________________________________\n",
      "dense_1 (Dense)              (None, 32)                2080      \n",
      "_________________________________________________________________\n",
      "dropout_2 (Dropout)          (None, 32)                0         \n",
      "_________________________________________________________________\n",
      "dense_2 (Dense)              (None, 1)                 33        \n",
      "=================================================================\n",
      "Total params: 1,051,905\n",
      "Trainable params: 1,051,905\n",
      "Non-trainable params: 0\n",
      "_________________________________________________________________\n"
     ]
    }
   ],
   "source": [
    "# For parameters refer to the upper cell\n",
    "model = mlp_model(2, 64, 0.3, trainData.shape[1:], 1)\n",
    "model.summary()"
   ]
  },
  {
   "cell_type": "code",
   "execution_count": 9,
   "metadata": {},
   "outputs": [],
   "source": [
    "# Learning rate could be further decreased for additional accuracy\n",
    "model.compile(optimizer=tf.train.AdamOptimizer(learning_rate=0.001),\n",
    "              loss='binary_crossentropy',\n",
    "              metrics=['accuracy'])"
   ]
  },
  {
   "cell_type": "code",
   "execution_count": 10,
   "metadata": {
    "scrolled": true
   },
   "outputs": [
    {
     "name": "stdout",
     "output_type": "stream",
     "text": [
      "Train on 5938 samples, validate on 312 samples\n",
      "WARNING:tensorflow:From /usr/local/lib/python3.5/dist-packages/tensorflow/python/ops/math_ops.py:3066: to_int32 (from tensorflow.python.ops.math_ops) is deprecated and will be removed in a future version.\n",
      "Instructions for updating:\n",
      "Use tf.cast instead.\n",
      "Epoch 1/20\n",
      " - 4s - loss: 0.6886 - acc: 0.6625 - val_loss: 0.6781 - val_acc: 0.9199\n",
      "Epoch 2/20\n",
      " - 3s - loss: 0.6667 - acc: 0.9015 - val_loss: 0.6459 - val_acc: 0.9615\n",
      "Epoch 3/20\n",
      " - 3s - loss: 0.6293 - acc: 0.9525 - val_loss: 0.5996 - val_acc: 0.9647\n",
      "Epoch 4/20\n",
      " - 3s - loss: 0.5787 - acc: 0.9621 - val_loss: 0.5417 - val_acc: 0.9647\n",
      "Epoch 5/20\n",
      " - 4s - loss: 0.5162 - acc: 0.9680 - val_loss: 0.4745 - val_acc: 0.9712\n",
      "Epoch 6/20\n",
      " - 4s - loss: 0.4467 - acc: 0.9737 - val_loss: 0.4025 - val_acc: 0.9776\n",
      "Epoch 7/20\n",
      " - 3s - loss: 0.3735 - acc: 0.9796 - val_loss: 0.3310 - val_acc: 0.9808\n",
      "Epoch 8/20\n",
      " - 3s - loss: 0.3026 - acc: 0.9801 - val_loss: 0.2646 - val_acc: 0.9840\n",
      "Epoch 9/20\n",
      " - 4s - loss: 0.2411 - acc: 0.9842 - val_loss: 0.2079 - val_acc: 0.9840\n",
      "Epoch 10/20\n",
      " - 3s - loss: 0.1904 - acc: 0.9840 - val_loss: 0.1628 - val_acc: 0.9840\n",
      "Epoch 11/20\n",
      " - 3s - loss: 0.1511 - acc: 0.9848 - val_loss: 0.1292 - val_acc: 0.9840\n",
      "Epoch 12/20\n",
      " - 3s - loss: 0.1184 - acc: 0.9877 - val_loss: 0.1049 - val_acc: 0.9872\n",
      "Epoch 13/20\n",
      " - 3s - loss: 0.0975 - acc: 0.9867 - val_loss: 0.0875 - val_acc: 0.9904\n",
      "Epoch 14/20\n",
      " - 3s - loss: 0.0781 - acc: 0.9912 - val_loss: 0.0751 - val_acc: 0.9904\n",
      "Epoch 15/20\n",
      " - 3s - loss: 0.0700 - acc: 0.9885 - val_loss: 0.0665 - val_acc: 0.9904\n",
      "Epoch 16/20\n",
      " - 3s - loss: 0.0614 - acc: 0.9882 - val_loss: 0.0605 - val_acc: 0.9904\n",
      "Epoch 17/20\n",
      " - 3s - loss: 0.0518 - acc: 0.9917 - val_loss: 0.0558 - val_acc: 0.9904\n",
      "Epoch 18/20\n",
      " - 3s - loss: 0.0454 - acc: 0.9923 - val_loss: 0.0517 - val_acc: 0.9904\n",
      "Epoch 19/20\n",
      " - 3s - loss: 0.0431 - acc: 0.9904 - val_loss: 0.0490 - val_acc: 0.9904\n",
      "Epoch 20/20\n",
      " - 3s - loss: 0.0380 - acc: 0.9946 - val_loss: 0.0468 - val_acc: 0.9904\n"
     ]
    }
   ],
   "source": [
    "# Callbacks will prevent model from running if val_loss starts to increase\n",
    "callbacks = [tf.keras.callbacks.EarlyStopping(\n",
    "        monitor='val_loss', patience=2)]\n",
    "\n",
    "# Training the classifier (model)\n",
    "history = model.fit(trainData,\n",
    "                    trainLabels,\n",
    "                    epochs=20,\n",
    "                    callbacks=callbacks,\n",
    "                    batch_size=1024,\n",
    "                    validation_data=(validationData, validationLabels),\n",
    "                    verbose=2)"
   ]
  },
  {
   "cell_type": "code",
   "execution_count": 11,
   "metadata": {
    "scrolled": true
   },
   "outputs": [],
   "source": [
    "# Calculating results\n",
    "results = model.predict(x_test)\n",
    "pred_labels = []\n",
    "occurences = [0, 0, 0, 0, 0, 0, 0, 0, 0, 0, 0, 0]\n",
    "for x in results:\n",
    "    if x <= 0.05:\n",
    "        occurences[0] += 1\n",
    "        pred_labels.append(0)\n",
    "    elif x <= 0.15 and x > 0.05:\n",
    "        occurences[1] += 1\n",
    "        pred_labels.append(0)\n",
    "    elif x <= 0.25 and x > 0.15:\n",
    "        occurences[2] += 1\n",
    "        pred_labels.append(0)\n",
    "    elif x <= 0.35 and x > 0.25:\n",
    "        occurences[3] += 1\n",
    "        pred_labels.append(0)\n",
    "    elif x <= 0.45 and x > 0.35:\n",
    "        occurences[4] += 1\n",
    "        pred_labels.append(0)\n",
    "    elif x <= 0.55 and x > 0.45:\n",
    "        occurences[5] += 1\n",
    "        pred_labels.append(0)\n",
    "    elif x <= 0.65 and x > 0.55:\n",
    "        occurences[6] += 1\n",
    "        pred_labels.append(0)\n",
    "    elif x <= 0.75 and x > 0.65:\n",
    "        occurences[7] += 1\n",
    "        pred_labels.append(0)\n",
    "    elif x <= 0.85 and x > 0.75:\n",
    "        occurences[8] += 1\n",
    "        pred_labels.append(0)\n",
    "    elif x <= 0.95 and x > 0.85:\n",
    "        occurences[9] += 1\n",
    "        pred_labels.append(0)\n",
    "    elif x <= 0.98 and x > 0.95:\n",
    "        occurences[10] += 1\n",
    "        pred_labels.append(1)\n",
    "    elif x > 0.98:\n",
    "        occurences[11] += 1\n",
    "        pred_labels.append(1)\n",
    "\n",
    "TP = 0\n",
    "TN = 0\n",
    "FP = 0\n",
    "FN = 0\n",
    "for x, y in zip(pred_labels, y_test):\n",
    "    if x == 1 and y == 1:\n",
    "        TP += 1\n",
    "    elif x == 1 and y == 0:\n",
    "        FP += 1\n",
    "    elif x == 0 and y == 1:\n",
    "        FN += 1\n",
    "    elif x == 0 and y == 0:\n",
    "        TN += 1"
   ]
  },
  {
   "cell_type": "code",
   "execution_count": 12,
   "metadata": {},
   "outputs": [
    {
     "name": "stdout",
     "output_type": "stream",
     "text": [
      "[7, 16, 11, 13, 14, 14, 19, 24, 34, 54, 47, 61]\n",
      "Accuracy: 0.6720\n",
      "\n",
      "Precision: 0.7500\n",
      "Recall: 0.5159\n",
      "F-score: 0.6113\n",
      "\n",
      "TP 81, TN 130, FP 27, FN 76\n"
     ]
    }
   ],
   "source": [
    "from sklearn.metrics import accuracy_score, precision_score, recall_score, f1_score\n",
    "print(occurences)\n",
    "accuracy = accuracy_score(y_test, pred_labels)\n",
    "precision = precision_score(y_test, pred_labels)\n",
    "recall = recall_score(y_test, pred_labels)\n",
    "fscore = f1_score(y_test, pred_labels)\n",
    "print(\"Accuracy: %.4f\" % accuracy)\n",
    "print(\"\\nPrecision: %.4f\\nRecall: %.4f\\nF-score: %.4f\" % (precision, recall, fscore))\n",
    "print(\"\\nTP %d, TN %d, FP %d, FN %d\" % (TP, TN, FP, FN))\n",
    "\n",
    "df = pd.DataFrame({'Occurences': occurences}, index=[0, 0.1, 0.2, 0.3, 0.4, 0.5, 0.6, 0.7, 0.8, 0.9, 0.95, 0.98])\n",
    "ax = df.plot.bar(rot=0)"
   ]
  },
  {
   "cell_type": "code",
   "execution_count": null,
   "metadata": {},
   "outputs": [],
   "source": []
  }
 ],
 "metadata": {
  "kernelspec": {
   "display_name": "Python 3",
   "language": "python",
   "name": "python3"
  },
  "language_info": {
   "codemirror_mode": {
    "name": "ipython",
    "version": 3
   },
   "file_extension": ".py",
   "mimetype": "text/x-python",
   "name": "python",
   "nbconvert_exporter": "python",
   "pygments_lexer": "ipython3",
   "version": "3.5.2"
  }
 },
 "nbformat": 4,
 "nbformat_minor": 2
}
