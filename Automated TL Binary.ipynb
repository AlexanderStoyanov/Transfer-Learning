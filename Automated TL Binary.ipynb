{
 "cells": [
  {
   "cell_type": "code",
   "execution_count": 1,
   "metadata": {},
   "outputs": [],
   "source": [
    "#Partially adopted from Tensorflow/docs/basic_text_classification\n",
    "#https://github.com/tensorflow/docs/blob/master/site/en/tutorials/keras/basic_text_classification.ipynb\n",
    "\n",
    "#As well as https://developers.google.com/machine-learning/guides/text-classification/"
   ]
  },
  {
   "cell_type": "code",
   "execution_count": 2,
   "metadata": {
    "scrolled": true
   },
   "outputs": [
    {
     "name": "stderr",
     "output_type": "stream",
     "text": [
      "[nltk_data] Downloading package punkt to /root/nltk_data...\n",
      "[nltk_data]   Package punkt is already up-to-date!\n",
      "[nltk_data] Downloading package stopwords to /root/nltk_data...\n",
      "[nltk_data]   Package stopwords is already up-to-date!\n"
     ]
    }
   ],
   "source": [
    "import tensorflow as tf\n",
    "from tensorflow import keras\n",
    "\n",
    "from sklearn.utils import shuffle\n",
    "from sklearn.feature_extraction.text import TfidfVectorizer\n",
    "from sklearn.feature_selection import SelectKBest\n",
    "from sklearn.feature_selection import f_classif\n",
    "\n",
    "import numpy as np\n",
    "import pandas as pd\n",
    "\n",
    "from data import Data, TestData, WikiData"
   ]
  },
  {
   "cell_type": "code",
   "execution_count": 3,
   "metadata": {
    "scrolled": true
   },
   "outputs": [
    {
     "name": "stdout",
     "output_type": "stream",
     "text": [
      "Labels made successfully\n",
      "Labels made successfully\n"
     ]
    }
   ],
   "source": [
    "data = []\n",
    "noise = []\n",
    "with open('Data/NFR.csv') as f:\n",
    "    # Create two instances of data: fake (noise) and real (data)\n",
    "    for sentence in f:\n",
    "        cl = sentence[:sentence.find(',')]\n",
    "        sentence = sentence[sentence.find(',')+1:]\n",
    "        if cl == 'Security':\n",
    "            data.append(sentence)\n",
    "        else:\n",
    "            noise.append(sentence)\n",
    "\n",
    "# Create two instances of data from fake and real\n",
    "test_0 = TestData(noise, '0')\n",
    "test_1 = TestData(data, '1')\n",
    "\n",
    "# Balance the data based on min length of both lists\n",
    "deleteAfter = min(len(test_0.data), len(test_1.data))\n",
    "del test_0.data[deleteAfter:]\n",
    "del test_1.data[deleteAfter:]\n",
    "del test_0.labels[deleteAfter:]\n",
    "del test_1.labels[deleteAfter:]\n",
    "\n",
    "# Test that the data is balanced\n",
    "assert len(test_0.data) == len(test_1.data), 'Lengths of test datas are not equal'\n",
    "assert len(test_0.labels) == len(test_1.labels), 'Lengths of test labels are not equal'\n",
    "assert len(test_0.data) == len(test_0.labels), 'Lengths of test data and labels do not match'\n",
    "assert len(test_1.data) == len(test_1.labels), 'Lengths of test data and labels do not match'"
   ]
  },
  {
   "cell_type": "code",
   "execution_count": 4,
   "metadata": {
    "scrolled": false
   },
   "outputs": [
    {
     "name": "stdout",
     "output_type": "stream",
     "text": [
      "Article names in random list: 500\n",
      "Labels made successfully\n",
      "Article names in the security list: 500\n",
      "Labels made successfully\n"
     ]
    }
   ],
   "source": [
    "# Get train data from Wiki articles\n",
    "train_0 = WikiData(articlesFile='Data/enwiki-latest-all-titles-in-ns0', keyword='rand', size=500, labelValue='0')\n",
    "train_1 = WikiData(articlesFile='Data/enwiki-latest-all-titles-in-ns0', keyword='security', size=500, labelValue='1')"
   ]
  },
  {
   "cell_type": "code",
   "execution_count": 5,
   "metadata": {
    "scrolled": true
   },
   "outputs": [
    {
     "name": "stdout",
     "output_type": "stream",
     "text": [
      "\n",
      "Test set length: 708\n",
      "Test labels set length: 708\n",
      "\n",
      "Validation set length: 2248\n",
      "Validation labels set length: 2248\n",
      "\n",
      "Train set length: 42722\n",
      "Train labels set length: 42722\n"
     ]
    }
   ],
   "source": [
    "# Balance the data based on min length of both lists\n",
    "deleteAfter = min(len(train_0.data), len(train_1.data))\n",
    "\n",
    "# If min length is less than 100 sentences, test is invalid\n",
    "assert deleteAfter > 100, 'Train set is too small'\n",
    "\n",
    "del train_0.data[deleteAfter:]\n",
    "del train_1.data[deleteAfter:]\n",
    "del train_0.labels[deleteAfter:]\n",
    "del train_1.labels[deleteAfter:]\n",
    "\n",
    "# Test that the data is balanced\n",
    "assert len(train_0.data) == len(train_1.data), 'Lengths of train datas are not equal'\n",
    "assert len(train_0.labels) == len(train_1.labels), 'Lengths of train labels are not equal'\n",
    "assert len(train_0.data) == len(train_0.labels), 'Lengths of train data and labels do not match'\n",
    "assert len(train_1.data) == len(train_1.labels), 'Lengths of train data and labels do not match'\n",
    "\n",
    "#Collapse into single list\n",
    "trainData = train_0.data + train_1.data\n",
    "trainLabels = train_0.labels + train_1.labels\n",
    "x_test = test_0.data + test_1.data\n",
    "y_test = test_0.labels + test_1.labels\n",
    "\n",
    "#Shuffle two lists, save the order\n",
    "trainData, trainLabels = shuffle(trainData, trainLabels)\n",
    "x_test, y_test = shuffle(x_test, y_test)\n",
    "\n",
    "#Get validation data\n",
    "validationToTrainRatio = 0.05\n",
    "validationSize = int(validationToTrainRatio * len(trainData))\n",
    "validationData = trainData[:validationSize]\n",
    "validationLabels = trainLabels[:validationSize]\n",
    "trainData = trainData[validationSize:]\n",
    "trainLabels = trainLabels[validationSize:]\n",
    "\n",
    "\n",
    "print(\"\\nTest set length: %d\" % len(x_test))\n",
    "print(\"Test labels set length: %d\" % len(y_test))\n",
    "print(\"\\nValidation set length: %d\" % len(validationData))\n",
    "print(\"Validation labels set length: %d\" % len(validationLabels))\n",
    "print(\"\\nTrain set length: %d\" % len(trainData))\n",
    "print(\"Train labels set length: %d\" % len(trainLabels))"
   ]
  },
  {
   "cell_type": "code",
   "execution_count": 6,
   "metadata": {},
   "outputs": [],
   "source": [
    "# Vectorizing train, validation, and test data\n",
    "trainData = train_0.ngram_vectorize(data=trainData, labels=trainLabels)\n",
    "\n",
    "validationData = train_0.ngram_vectorize(\n",
    "    data=validationData,\n",
    "    vectorizer=train_0.vectorizer, \n",
    "    selector=train_0.selector)\n",
    "\n",
    "x_test = train_0.ngram_vectorize(\n",
    "    data=x_test,\n",
    "    vectorizer=train_0.vectorizer, \n",
    "    selector=train_0.selector)"
   ]
  },
  {
   "cell_type": "code",
   "execution_count": 7,
   "metadata": {},
   "outputs": [],
   "source": [
    "# Binary classifier (model) construction method\n",
    "def mlp_model(layers, units, dropout_rate, input_shape, num_classes):\n",
    "    model = keras.Sequential()\n",
    "    model.add(keras.layers.Dropout(rate=dropout_rate, input_shape=input_shape))\n",
    "    for _ in range(layers-1):\n",
    "        model.add(keras.layers.Dense(units=units, activation=tf.nn.relu))\n",
    "        model.add(keras.layers.Dropout(rate=dropout_rate))\n",
    "\n",
    "    model.add(keras.layers.Dense(units=32, activation=tf.nn.relu))\n",
    "    model.add(keras.layers.Dropout(rate=dropout_rate))\n",
    "    model.add(keras.layers.Dense(units=num_classes, activation=tf.nn.sigmoid))\n",
    "    return model"
   ]
  },
  {
   "cell_type": "code",
   "execution_count": 8,
   "metadata": {},
   "outputs": [
    {
     "name": "stdout",
     "output_type": "stream",
     "text": [
      "WARNING:tensorflow:From /usr/local/lib/python3.5/dist-packages/tensorflow/python/keras/layers/core.py:143: calling dropout (from tensorflow.python.ops.nn_ops) with keep_prob is deprecated and will be removed in a future version.\n",
      "Instructions for updating:\n",
      "Please use `rate` instead of `keep_prob`. Rate should be set to `rate = 1 - keep_prob`.\n",
      "WARNING:tensorflow:From /usr/local/lib/python3.5/dist-packages/tensorflow/python/ops/control_flow_ops.py:423: colocate_with (from tensorflow.python.framework.ops) is deprecated and will be removed in a future version.\n",
      "Instructions for updating:\n",
      "Colocations handled automatically by placer.\n",
      "_________________________________________________________________\n",
      "Layer (type)                 Output Shape              Param #   \n",
      "=================================================================\n",
      "dropout (Dropout)            (None, 20000)             0         \n",
      "_________________________________________________________________\n",
      "dense (Dense)                (None, 64)                1280064   \n",
      "_________________________________________________________________\n",
      "dropout_1 (Dropout)          (None, 64)                0         \n",
      "_________________________________________________________________\n",
      "dense_1 (Dense)              (None, 32)                2080      \n",
      "_________________________________________________________________\n",
      "dropout_2 (Dropout)          (None, 32)                0         \n",
      "_________________________________________________________________\n",
      "dense_2 (Dense)              (None, 1)                 33        \n",
      "=================================================================\n",
      "Total params: 1,282,177\n",
      "Trainable params: 1,282,177\n",
      "Non-trainable params: 0\n",
      "_________________________________________________________________\n"
     ]
    }
   ],
   "source": [
    "# For parameters refer to the upper cell\n",
    "model = mlp_model(2, 64, 0.3, trainData.shape[1:], 1)\n",
    "model.summary()"
   ]
  },
  {
   "cell_type": "code",
   "execution_count": 9,
   "metadata": {},
   "outputs": [],
   "source": [
    "# Learning rate could be further decreased for additional accuracy\n",
    "model.compile(optimizer=tf.train.AdamOptimizer(learning_rate=0.001),\n",
    "              loss='binary_crossentropy',\n",
    "              metrics=['accuracy'])"
   ]
  },
  {
   "cell_type": "code",
   "execution_count": 10,
   "metadata": {
    "scrolled": true
   },
   "outputs": [
    {
     "name": "stdout",
     "output_type": "stream",
     "text": [
      "Train on 42722 samples, validate on 2248 samples\n",
      "WARNING:tensorflow:From /usr/local/lib/python3.5/dist-packages/tensorflow/python/ops/math_ops.py:3066: to_int32 (from tensorflow.python.ops.math_ops) is deprecated and will be removed in a future version.\n",
      "Instructions for updating:\n",
      "Use tf.cast instead.\n",
      "Epoch 1/20\n",
      " - 32s - loss: 0.6249 - acc: 0.7819 - val_loss: 0.4863 - val_acc: 0.8603\n",
      "Epoch 2/20\n",
      " - 31s - loss: 0.3863 - acc: 0.8677 - val_loss: 0.2877 - val_acc: 0.8901\n",
      "Epoch 3/20\n",
      " - 31s - loss: 0.2663 - acc: 0.8944 - val_loss: 0.2320 - val_acc: 0.9070\n",
      "Epoch 4/20\n",
      " - 33s - loss: 0.2265 - acc: 0.9079 - val_loss: 0.2159 - val_acc: 0.9181\n",
      "Epoch 5/20\n",
      " - 33s - loss: 0.2111 - acc: 0.9131 - val_loss: 0.2112 - val_acc: 0.9159\n",
      "Epoch 6/20\n",
      " - 30s - loss: 0.1961 - acc: 0.9189 - val_loss: 0.2119 - val_acc: 0.9124\n",
      "Epoch 7/20\n",
      " - 29s - loss: 0.1882 - acc: 0.9204 - val_loss: 0.2090 - val_acc: 0.9110\n",
      "Epoch 8/20\n",
      " - 29s - loss: 0.1819 - acc: 0.9236 - val_loss: 0.2093 - val_acc: 0.9141\n",
      "Epoch 9/20\n",
      " - 29s - loss: 0.1802 - acc: 0.9231 - val_loss: 0.2053 - val_acc: 0.9173\n",
      "Epoch 10/20\n",
      " - 29s - loss: 0.1732 - acc: 0.9245 - val_loss: 0.2051 - val_acc: 0.9141\n",
      "Epoch 11/20\n",
      " - 29s - loss: 0.1696 - acc: 0.9264 - val_loss: 0.2066 - val_acc: 0.9181\n",
      "Epoch 12/20\n",
      " - 28s - loss: 0.1623 - acc: 0.9301 - val_loss: 0.2055 - val_acc: 0.9150\n"
     ]
    }
   ],
   "source": [
    "# Callbacks will prevent model from running if val_loss starts to increase\n",
    "callbacks = [tf.keras.callbacks.EarlyStopping(\n",
    "        monitor='val_loss', patience=2)]\n",
    "\n",
    "# Training the classifier (model)\n",
    "history = model.fit(trainData,\n",
    "                    trainLabels,\n",
    "                    epochs=20,\n",
    "                    callbacks=callbacks,\n",
    "                    batch_size=1024,\n",
    "                    validation_data=(validationData, validationLabels),\n",
    "                    verbose=2)"
   ]
  },
  {
   "cell_type": "code",
   "execution_count": 13,
   "metadata": {
    "scrolled": true
   },
   "outputs": [],
   "source": [
    "# Calculating results\n",
    "results = model.predict(x_test)\n",
    "pred_labels = []\n",
    "occurences = [0, 0, 0, 0, 0, 0, 0, 0, 0, 0, 0, 0]\n",
    "for x in results:\n",
    "    if x <= 0.05:\n",
    "        occurences[0] += 1\n",
    "        pred_labels.append(0)\n",
    "    elif x <= 0.15 and x > 0.05:\n",
    "        occurences[1] += 1\n",
    "        pred_labels.append(0)\n",
    "    elif x <= 0.25 and x > 0.15:\n",
    "        occurences[2] += 1\n",
    "        pred_labels.append(0)\n",
    "    elif x <= 0.35 and x > 0.25:\n",
    "        occurences[3] += 1\n",
    "        pred_labels.append(0)\n",
    "    elif x <= 0.45 and x > 0.35:\n",
    "        occurences[4] += 1\n",
    "        pred_labels.append(0)\n",
    "    elif x <= 0.55 and x > 0.45:\n",
    "        occurences[5] += 1\n",
    "        pred_labels.append(0)\n",
    "    elif x <= 0.65 and x > 0.55:\n",
    "        occurences[6] += 1\n",
    "        pred_labels.append(0)\n",
    "    elif x <= 0.75 and x > 0.65:\n",
    "        occurences[7] += 1\n",
    "        pred_labels.append(0)\n",
    "    elif x <= 0.85 and x > 0.75:\n",
    "        occurences[8] += 1\n",
    "        pred_labels.append(0)\n",
    "    elif x <= 0.95 and x > 0.85:\n",
    "        occurences[9] += 1\n",
    "        pred_labels.append(0)\n",
    "    elif x <= 0.98 and x > 0.95:\n",
    "        occurences[10] += 1\n",
    "        pred_labels.append(1)\n",
    "    elif x > 0.98:\n",
    "        occurences[11] += 1\n",
    "        pred_labels.append(1)\n",
    "\n",
    "TP = 0\n",
    "TN = 0\n",
    "FP = 0\n",
    "FN = 0\n",
    "for x, y in zip(pred_labels, y_test):\n",
    "    if x == 1 and y == 1:\n",
    "        TP += 1\n",
    "    elif x == 1 and y == 0:\n",
    "        FP += 1\n",
    "    elif x == 0 and y == 1:\n",
    "        FN += 1\n",
    "    elif x == 0 and y == 0:\n",
    "        TN += 1"
   ]
  },
  {
   "cell_type": "code",
   "execution_count": 14,
   "metadata": {},
   "outputs": [
    {
     "name": "stdout",
     "output_type": "stream",
     "text": [
      "[10, 18, 15, 17, 12, 24, 25, 48, 75, 120, 99, 245]\n",
      "Accuracy: 0.7825\n",
      "\n",
      "Precision: 0.7907\n",
      "Recall: 0.7684\n",
      "F-score: 0.7794\n",
      "\n",
      "TP 272, TN 282, FP 72, FN 82\n"
     ]
    },
    {
     "data": {
      "image/png": "[encoded data removed]",
      "text/plain": [
       "<Figure size 432x288 with 1 Axes>"
      ]
     },
     "metadata": {
      "needs_background": "light"
     },
     "output_type": "display_data"
    }
   ],
   "source": [
    "from sklearn.metrics import accuracy_score, precision_score, recall_score, f1_score\n",
    "print(occurences)\n",
    "accuracy = accuracy_score(y_test, pred_labels)\n",
    "precision = precision_score(y_test, pred_labels)\n",
    "recall = recall_score(y_test, pred_labels)\n",
    "fscore = f1_score(y_test, pred_labels)\n",
    "print(\"Accuracy: %.4f\" % accuracy)\n",
    "print(\"\\nPrecision: %.4f\\nRecall: %.4f\\nF-score: %.4f\" % (precision, recall, fscore))\n",
    "print(\"\\nTP %d, TN %d, FP %d, FN %d\" % (TP, TN, FP, FN))\n",
    "\n",
    "df = pd.DataFrame({'Occurences': occurences}, index=[0, 0.1, 0.2, 0.3, 0.4, 0.5, 0.6, 0.7, 0.8, 0.9, 0.95, 0.98])\n",
    "ax = df.plot.bar(rot=0)"
   ]
  },
  {
   "cell_type": "code",
   "execution_count": null,
   "metadata": {},
   "outputs": [],
   "source": []
  }
 ],
 "metadata": {
  "kernelspec": {
   "display_name": "Python 3",
   "language": "python",
   "name": "python3"
  },
  "language_info": {
   "codemirror_mode": {
    "name": "ipython",
    "version": 3
   },
   "file_extension": ".py",
   "mimetype": "text/x-python",
   "name": "python",
   "nbconvert_exporter": "python",
   "pygments_lexer": "ipython3",
   "version": "3.5.2"
  }
 },
 "nbformat": 4,
 "nbformat_minor": 2
}
