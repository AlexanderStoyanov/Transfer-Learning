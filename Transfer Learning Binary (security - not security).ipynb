{
 "cells": [
  {
   "cell_type": "code",
   "execution_count": 1,
   "metadata": {},
   "outputs": [],
   "source": [
    "#Partially adopted from Tensorflow/docs/basic_text_classification\n",
    "#https://github.com/tensorflow/docs/blob/master/site/en/tutorials/keras/basic_text_classification.ipynb\n",
    "\n",
    "#As well as https://developers.google.com/machine-learning/guides/text-classification/"
   ]
  },
  {
   "cell_type": "code",
   "execution_count": 2,
   "metadata": {},
   "outputs": [
    {
     "name": "stderr",
     "output_type": "stream",
     "text": [
      "Using TensorFlow backend.\n"
     ]
    },
    {
     "name": "stdout",
     "output_type": "stream",
     "text": [
      "1.11.0\n",
      "[nltk_data] Downloading package punkt to /root/nltk_data...\n",
      "[nltk_data]   Package punkt is already up-to-date!\n"
     ]
    }
   ],
   "source": [
    "import tensorflow as tf\n",
    "from tensorflow import keras\n",
    "from keras.utils import to_categorical\n",
    "from sklearn.utils import shuffle\n",
    "import matplotlib.pyplot as plt\n",
    "\n",
    "from sklearn.feature_extraction.text import TfidfVectorizer\n",
    "from sklearn.feature_selection import SelectKBest\n",
    "from sklearn.feature_selection import f_classif\n",
    "\n",
    "import numpy as np\n",
    "\n",
    "print(tf.__version__)\n",
    "\n",
    "import nltk\n",
    "nltk.download('punkt')\n",
    "from nltk import word_tokenize\n",
    "stemmer = nltk.stem.SnowballStemmer('english')"
   ]
  },
  {
   "cell_type": "code",
   "execution_count": 3,
   "metadata": {},
   "outputs": [],
   "source": [
    "#MAPPING SENTENCES TO LIBRARY\n",
    "import json\n",
    "\n",
    "#declare trainData as an empty list\n",
    "testData = []\n",
    "testLabels = []\n",
    "    \n",
    "#temp list for each sentence\n",
    "tempList = []\n",
    "\n",
    "#Keeping track of used sentences\n",
    "used = []\n",
    "\n",
    "#Keeping track of used requirement statements\n",
    "security = []\n",
    "nosecurity = []\n",
    "\n",
    "#this is the smallest number of unique non-functional requirements of a single class\n",
    "LIMIT = 270\n",
    "\n",
    "#library a.k.a. bag of words\n",
    "with open(\"Consolidated_data.txt\",\"r\") as f, open(\"libraryStemmed.json\", \"r\") as l:\n",
    "    data = json.load(l)\n",
    "\n",
    "    #Go line by line in original data file\n",
    "    for line in f:\n",
    "        #find where class begins\n",
    "        front = line.find(\"\\\"class\\\":\\\"\")\n",
    "        #find where class ends (where sentence begins)\n",
    "        end = line.find(\"\\\",\\\"sentence\\\":\\\"\")\n",
    "        #substring line based on front and end above\n",
    "        reqClass = (line[(front+9):end]).lower()\n",
    "\n",
    "        #sentence\n",
    "        del tempList[:]\n",
    "        temp = line.find(\"\\\"sentence\\\":\\\"\")\n",
    "        sentence = (line[(temp+12):-4]).lower()\n",
    "        sentence = sentence.translate(None, '.,-\\\":;~!@#$%^&?[]{}<>`1234567890\\\\*()').strip()\n",
    "        \n",
    "        \n",
    "        if \"security\" in reqClass and (len(security) < LIMIT):\n",
    "            if sentence in used:\n",
    "                continue\n",
    "            used.append(sentence)\n",
    "            security.append(sentence)\n",
    "            testLabels.append(1)\n",
    "            for x in sentence.split(' '):\n",
    "                x = unicode(x, 'utf-8')\n",
    "                x = stemmer.stem(x)\n",
    "                if x in data:\n",
    "                    tempList.append(data[x])\n",
    "                else:\n",
    "                    tempList.append(1)\n",
    "            testData.append(tempList[:])\n",
    "        elif \"security\" not in reqClass and (len(nosecurity) < LIMIT):\n",
    "            if sentence in used:\n",
    "                continue\n",
    "            used.append(sentence)\n",
    "            nosecurity.append(sentence)\n",
    "            testLabels.append(0)\n",
    "            for x in sentence.split(' '):\n",
    "                x = unicode(x, 'utf-8')\n",
    "                x = stemmer.stem(x)\n",
    "                if x in data:\n",
    "                    tempList.append(data[x])\n",
    "                else:\n",
    "                    tempList.append(1)\n",
    "            testData.append(tempList[:])"
   ]
  },
  {
   "cell_type": "code",
   "execution_count": 4,
   "metadata": {},
   "outputs": [
    {
     "name": "stdout",
     "output_type": "stream",
     "text": [
      "270\n",
      "270\n"
     ]
    }
   ],
   "source": [
    "#Must all be balanced for valid results.\n",
    "#Commented out the total number of sentences in the document.\n",
    "print len(security) #270\n",
    "print len(nosecurity)"
   ]
  },
  {
   "cell_type": "code",
   "execution_count": 5,
   "metadata": {},
   "outputs": [],
   "source": [
    "import csv\n",
    "import requests\n",
    "\n",
    "S = requests.Session()\n",
    "URL = \"https://en.wikipedia.org/w/api.php\"\n",
    "\n",
    "def parsePage(title):\n",
    "    PARAMS = {\n",
    "    'action': \"parse\",\n",
    "    'page': title,\n",
    "    'prop': 'wikitext',\n",
    "    'format': \"json\"\n",
    "    }\n",
    "    \n",
    "    res = S.get(url=URL, params=PARAMS)\n",
    "    data = res.json()\n",
    "    wikitext = data['parse']['wikitext']['*']\n",
    "    lines = wikitext.split('|-')\n",
    "    entries = []\n",
    "    b = \",-\\\":;~!@#$%^&?[]{}<>`1234567890\\\\*()\\'/|=\"\n",
    "    for char in b:\n",
    "        lines[0] = lines[0].replace(char, \"\")\n",
    "        \n",
    "    while lines[0].find(\"\\n\") is not (None or -1):\n",
    "        current = lines[0].find(\"\\n\")\n",
    "        entries.append(lines[0][:current+1])\n",
    "        lines[0] = lines[0][current+1:]\n",
    "        \n",
    "    pageContent = []\n",
    "    for line in entries:\n",
    "        index = entries.index(line)\n",
    "            \n",
    "        #removing words that do not carry any meaning (longer than 16 chars)\n",
    "        for key in line.split(\" \"):\n",
    "            if len(key) > 16:\n",
    "                line = line.replace(key, \"\")\n",
    "                \n",
    "        #if line is not empty and wordcount > 20, line will be used for training\n",
    "        if line != '\\n' and (len(line.split(\" \")) > 20):\n",
    "            pageContent.append(line.strip())\n",
    "        \n",
    "    train = []\n",
    "    for line in pageContent:\n",
    "        for item in line.split(\".\"):\n",
    "            if(len(item.split(\" \")) > 10): # and item[0].isupper()\n",
    "                #print(item[0])\n",
    "                train.append(item.strip())\n",
    "    print(\"Page parsed successfully\")\n",
    "    return train"
   ]
  },
  {
   "cell_type": "code",
   "execution_count": 6,
   "metadata": {},
   "outputs": [],
   "source": [
    "def makeLabels(trainData, labelNumber):\n",
    "    #generating labels list that matches pageContent list in length\n",
    "    labels = []\n",
    "    for x in range(0, len(trainData)):\n",
    "        labels.append(labelNumber)\n",
    "    print(\"Labels made successfully\")\n",
    "    return labels"
   ]
  },
  {
   "cell_type": "code",
   "execution_count": 7,
   "metadata": {},
   "outputs": [
    {
     "name": "stdout",
     "output_type": "stream",
     "text": [
      "Page parsed successfully\n",
      "Page parsed successfully\n",
      "('Security length: ', 407)\n",
      "('Not Security length: ', 102)\n",
      "Labels made successfully\n",
      "Labels made successfully\n",
      "('Test set length: ', 540)\n",
      "('Test labels set length: ', 540)\n",
      "('Validation set length: ', 61)\n",
      "('Validation labels set length: ', 61)\n",
      "('Train set length: ', 143)\n",
      "('Train labels set length: ', 143)\n"
     ]
    }
   ],
   "source": [
    "#Parse two wikipedia pages\n",
    "security = parsePage(\"Information security\")\n",
    "notSecurity = parsePage(\"Medical diagnosis\")\n",
    "print(\"Security length: \", len(security))\n",
    "print(\"Not Security length: \", len(notSecurity))\n",
    "\n",
    "#Make entries be same length, pick minimum of two lengths\n",
    "deleteAfter = min(len(security), len(notSecurity))\n",
    "\n",
    "#If min length is less than 100 sentences, test is invalid\n",
    "if deleteAfter < 100:\n",
    "    print(\"!!!TEST IS INVALID!!!\")\n",
    "else:\n",
    "    del security[deleteAfter:]\n",
    "    del notSecurity[deleteAfter:]\n",
    "\n",
    "if(len(security) != len(notSecurity)):\n",
    "    print(\"!!!TEST IS INVALID!!!\")\n",
    "else:\n",
    "    #Generate labels\n",
    "    trainLabels = makeLabels(security, 1)\n",
    "    trainLabels += makeLabels(notSecurity, 0)\n",
    "\n",
    "    #Collapse into single list\n",
    "    trainData = security + notSecurity\n",
    "\n",
    "    #Shuffle two lists, save the order\n",
    "    trainData, trainLabels = shuffle(trainData, trainLabels)\n",
    "    used, testLabels = shuffle(used, testLabels)\n",
    "\n",
    "    #Get validation data\n",
    "    validationToTrainRatio = 0.3\n",
    "    validationSize = int(validationToTrainRatio * len(trainData))\n",
    "    validationData = trainData[:validationSize]\n",
    "    validationLabels = trainLabels[:validationSize]\n",
    "    trainData = trainData[validationSize:]\n",
    "    trainLabels = trainLabels[validationSize:]\n",
    "\n",
    "    #Sanity check\n",
    "    print(\"Test set length: \", len(used))\n",
    "    print(\"Test labels set length: \", len(testLabels))\n",
    "    print(\"Validation set length: \", len(validationData))\n",
    "    print(\"Validation labels set length: \", len(validationLabels))\n",
    "    print(\"Train set length: \", len(trainData))\n",
    "    print(\"Train labels set length: \", len(trainLabels))"
   ]
  },
  {
   "cell_type": "code",
   "execution_count": 8,
   "metadata": {},
   "outputs": [],
   "source": [
    "def ngram_vectorize(train_texts, train_labels, val_texts, test_texts):\n",
    "    \n",
    "    # Create keyword arguments to pass to the 'tf-idf' vectorizer.\n",
    "    kwargs = {\n",
    "            'ngram_range': (1,3),  # Use 1-grams + 2-grams + 3-grams.\n",
    "            'dtype': 'int32',\n",
    "            'strip_accents': 'unicode',\n",
    "            'decode_error': 'replace',\n",
    "            'analyzer': 'word',  # Split text into word tokens.\n",
    "            'min_df': 3, #Words that appear less than this value do not contribute\n",
    "    }\n",
    "    vectorizer = TfidfVectorizer(**kwargs)\n",
    "\n",
    "    # Learn vocabulary from training texts and vectorize training texts.\n",
    "    x_train = vectorizer.fit_transform(train_texts)\n",
    "\n",
    "    # Vectorize validation texts.\n",
    "    x_val = vectorizer.transform(val_texts)\n",
    "    \n",
    "    # Vectorize test texts.\n",
    "    x_test = vectorizer.transform(test_texts)\n",
    "\n",
    "    # Select top 'k' of the vectorized features.\n",
    "    selector = SelectKBest(f_classif, k=min(4000, x_train.shape[1]))\n",
    "    selector.fit(x_train, train_labels)\n",
    "    x_train = selector.transform(x_train).astype('float32')\n",
    "    x_val = selector.transform(x_val).astype('float32')\n",
    "    x_test = selector.transform(x_test).astype('float32')\n",
    "    return x_train, x_val, x_test"
   ]
  },
  {
   "cell_type": "code",
   "execution_count": 9,
   "metadata": {
    "scrolled": false
   },
   "outputs": [
    {
     "name": "stderr",
     "output_type": "stream",
     "text": [
      "/usr/local/lib/python2.7/dist-packages/sklearn/feature_extraction/text.py:1547: UserWarning: Only (<type 'numpy.float64'>, <type 'numpy.float32'>, <type 'numpy.float16'>) 'dtype' should be used. int32 'dtype' will be converted to np.float64.\n",
      "  UserWarning)\n"
     ]
    }
   ],
   "source": [
    "trainData, valData, testData = ngram_vectorize(trainData, trainLabels, validationData, used)"
   ]
  },
  {
   "cell_type": "code",
   "execution_count": 10,
   "metadata": {},
   "outputs": [],
   "source": [
    "#Constructing the model method\n",
    "def mlp_model(layers, units, dropout_rate, input_shape, num_classes):\n",
    "    model = keras.Sequential()\n",
    "    model.add(keras.layers.Dropout(rate=dropout_rate, input_shape=input_shape))\n",
    "    for _ in range(layers-1):\n",
    "        model.add(keras.layers.Dense(units=units, activation=tf.nn.relu))\n",
    "        model.add(keras.layers.Dropout(rate=dropout_rate))\n",
    "\n",
    "    model.add(keras.layers.Dense(units=num_classes, activation=tf.nn.sigmoid))\n",
    "    return model"
   ]
  },
  {
   "cell_type": "code",
   "execution_count": 11,
   "metadata": {},
   "outputs": [
    {
     "name": "stdout",
     "output_type": "stream",
     "text": [
      "_________________________________________________________________\n",
      "Layer (type)                 Output Shape              Param #   \n",
      "=================================================================\n",
      "dropout (Dropout)            (None, 291)               0         \n",
      "_________________________________________________________________\n",
      "dense (Dense)                (None, 32)                9344      \n",
      "_________________________________________________________________\n",
      "dropout_1 (Dropout)          (None, 32)                0         \n",
      "_________________________________________________________________\n",
      "dense_1 (Dense)              (None, 1)                 33        \n",
      "=================================================================\n",
      "Total params: 9,377\n",
      "Trainable params: 9,377\n",
      "Non-trainable params: 0\n",
      "_________________________________________________________________\n"
     ]
    }
   ],
   "source": [
    "#For parameters refer to the upper cell\n",
    "model = mlp_model(2, 32, 0.2, trainData.shape[1:], 1)\n",
    "model.summary()"
   ]
  },
  {
   "cell_type": "code",
   "execution_count": 12,
   "metadata": {},
   "outputs": [],
   "source": [
    "#Learning rate could be further decreased for additional accuracy\n",
    "model.compile(optimizer=tf.train.AdamOptimizer(learning_rate=0.001),\n",
    "              loss='binary_crossentropy',\n",
    "              metrics=['accuracy'])"
   ]
  },
  {
   "cell_type": "code",
   "execution_count": 13,
   "metadata": {
    "scrolled": true
   },
   "outputs": [
    {
     "name": "stdout",
     "output_type": "stream",
     "text": [
      "Train on 143 samples, validate on 61 samples\n",
      "Epoch 1/500\n",
      " - 1s - loss: 0.6939 - acc: 0.4196 - val_loss: 0.6836 - val_acc: 0.6230\n",
      "Epoch 2/500\n",
      " - 0s - loss: 0.6808 - acc: 0.6014 - val_loss: 0.6784 - val_acc: 0.7377\n",
      "Epoch 3/500\n",
      " - 0s - loss: 0.6738 - acc: 0.7133 - val_loss: 0.6729 - val_acc: 0.7541\n",
      "Epoch 4/500\n",
      " - 0s - loss: 0.6664 - acc: 0.7483 - val_loss: 0.6672 - val_acc: 0.8197\n",
      "Epoch 5/500\n",
      " - 0s - loss: 0.6567 - acc: 0.7622 - val_loss: 0.6612 - val_acc: 0.8361\n",
      "Epoch 6/500\n",
      " - 0s - loss: 0.6451 - acc: 0.8252 - val_loss: 0.6551 - val_acc: 0.8197\n",
      "Epoch 7/500\n",
      " - 0s - loss: 0.6342 - acc: 0.8462 - val_loss: 0.6482 - val_acc: 0.8033\n",
      "Epoch 8/500\n",
      " - 0s - loss: 0.6189 - acc: 0.8881 - val_loss: 0.6405 - val_acc: 0.8033\n",
      "Epoch 9/500\n",
      " - 0s - loss: 0.6095 - acc: 0.9301 - val_loss: 0.6321 - val_acc: 0.8197\n",
      "Epoch 10/500\n",
      " - 0s - loss: 0.5953 - acc: 0.8951 - val_loss: 0.6235 - val_acc: 0.8197\n",
      "Epoch 11/500\n",
      " - 0s - loss: 0.5806 - acc: 0.9231 - val_loss: 0.6142 - val_acc: 0.8197\n",
      "Epoch 12/500\n",
      " - 0s - loss: 0.5705 - acc: 0.9441 - val_loss: 0.6048 - val_acc: 0.8197\n",
      "Epoch 13/500\n",
      " - 0s - loss: 0.5520 - acc: 0.9371 - val_loss: 0.5946 - val_acc: 0.8197\n",
      "Epoch 14/500\n",
      " - 0s - loss: 0.5317 - acc: 0.9580 - val_loss: 0.5838 - val_acc: 0.8361\n",
      "Epoch 15/500\n",
      " - 0s - loss: 0.5152 - acc: 0.9580 - val_loss: 0.5726 - val_acc: 0.8689\n",
      "Epoch 16/500\n",
      " - 0s - loss: 0.4959 - acc: 0.9441 - val_loss: 0.5611 - val_acc: 0.8689\n",
      "Epoch 17/500\n",
      " - 0s - loss: 0.4772 - acc: 0.9371 - val_loss: 0.5497 - val_acc: 0.8689\n",
      "Epoch 18/500\n",
      " - 0s - loss: 0.4500 - acc: 0.9790 - val_loss: 0.5383 - val_acc: 0.8689\n",
      "Epoch 19/500\n",
      " - 0s - loss: 0.4376 - acc: 0.9441 - val_loss: 0.5270 - val_acc: 0.8689\n",
      "Epoch 20/500\n",
      " - 0s - loss: 0.4241 - acc: 0.9720 - val_loss: 0.5157 - val_acc: 0.8689\n",
      "Epoch 21/500\n",
      " - 0s - loss: 0.4040 - acc: 0.9371 - val_loss: 0.5047 - val_acc: 0.8689\n",
      "Epoch 22/500\n",
      " - 0s - loss: 0.3818 - acc: 0.9580 - val_loss: 0.4945 - val_acc: 0.8689\n",
      "Epoch 23/500\n",
      " - 0s - loss: 0.3723 - acc: 0.9441 - val_loss: 0.4848 - val_acc: 0.8689\n",
      "Epoch 24/500\n",
      " - 0s - loss: 0.3584 - acc: 0.9301 - val_loss: 0.4755 - val_acc: 0.8689\n",
      "Epoch 25/500\n",
      " - 0s - loss: 0.3256 - acc: 0.9720 - val_loss: 0.4664 - val_acc: 0.8689\n",
      "Epoch 26/500\n",
      " - 0s - loss: 0.3240 - acc: 0.9510 - val_loss: 0.4575 - val_acc: 0.8852\n",
      "Epoch 27/500\n",
      " - 0s - loss: 0.2981 - acc: 0.9580 - val_loss: 0.4494 - val_acc: 0.8852\n",
      "Epoch 28/500\n",
      " - 0s - loss: 0.2967 - acc: 0.9650 - val_loss: 0.4420 - val_acc: 0.8852\n",
      "Epoch 29/500\n",
      " - 0s - loss: 0.2947 - acc: 0.9510 - val_loss: 0.4353 - val_acc: 0.8852\n",
      "Epoch 30/500\n",
      " - 0s - loss: 0.2672 - acc: 0.9860 - val_loss: 0.4295 - val_acc: 0.8852\n",
      "Epoch 31/500\n",
      " - 0s - loss: 0.2615 - acc: 0.9720 - val_loss: 0.4245 - val_acc: 0.8852\n",
      "Epoch 32/500\n",
      " - 0s - loss: 0.2491 - acc: 0.9860 - val_loss: 0.4204 - val_acc: 0.8852\n",
      "Epoch 33/500\n",
      " - 0s - loss: 0.2410 - acc: 0.9720 - val_loss: 0.4163 - val_acc: 0.8852\n",
      "Epoch 34/500\n",
      " - 0s - loss: 0.2247 - acc: 0.9790 - val_loss: 0.4120 - val_acc: 0.8852\n",
      "Epoch 35/500\n",
      " - 0s - loss: 0.2107 - acc: 0.9790 - val_loss: 0.4074 - val_acc: 0.8852\n",
      "Epoch 36/500\n",
      " - 0s - loss: 0.2172 - acc: 0.9650 - val_loss: 0.4033 - val_acc: 0.8852\n",
      "Epoch 37/500\n",
      " - 0s - loss: 0.2137 - acc: 0.9580 - val_loss: 0.3999 - val_acc: 0.8852\n",
      "Epoch 38/500\n",
      " - 0s - loss: 0.1993 - acc: 0.9510 - val_loss: 0.3962 - val_acc: 0.8852\n",
      "Epoch 39/500\n",
      " - 0s - loss: 0.1919 - acc: 0.9860 - val_loss: 0.3929 - val_acc: 0.8852\n",
      "Epoch 40/500\n",
      " - 0s - loss: 0.1789 - acc: 0.9790 - val_loss: 0.3898 - val_acc: 0.8852\n",
      "Epoch 41/500\n",
      " - 0s - loss: 0.1762 - acc: 0.9720 - val_loss: 0.3875 - val_acc: 0.8852\n",
      "Epoch 42/500\n",
      " - 0s - loss: 0.1871 - acc: 0.9720 - val_loss: 0.3843 - val_acc: 0.8852\n",
      "Epoch 43/500\n",
      " - 0s - loss: 0.1708 - acc: 0.9790 - val_loss: 0.3813 - val_acc: 0.8689\n",
      "Epoch 44/500\n",
      " - 0s - loss: 0.1503 - acc: 0.9930 - val_loss: 0.3791 - val_acc: 0.8689\n",
      "Epoch 45/500\n",
      " - 0s - loss: 0.1614 - acc: 0.9650 - val_loss: 0.3770 - val_acc: 0.8689\n",
      "Epoch 46/500\n",
      " - 0s - loss: 0.1475 - acc: 0.9930 - val_loss: 0.3753 - val_acc: 0.8689\n",
      "Epoch 47/500\n",
      " - 0s - loss: 0.1434 - acc: 0.9720 - val_loss: 0.3733 - val_acc: 0.8689\n",
      "Epoch 48/500\n",
      " - 0s - loss: 0.1430 - acc: 0.9860 - val_loss: 0.3700 - val_acc: 0.8689\n",
      "Epoch 49/500\n",
      " - 0s - loss: 0.1297 - acc: 0.9860 - val_loss: 0.3675 - val_acc: 0.8689\n",
      "Epoch 50/500\n",
      " - 0s - loss: 0.1301 - acc: 0.9860 - val_loss: 0.3654 - val_acc: 0.8689\n",
      "Epoch 51/500\n",
      " - 0s - loss: 0.1273 - acc: 0.9790 - val_loss: 0.3633 - val_acc: 0.8689\n",
      "Epoch 52/500\n",
      " - 0s - loss: 0.1307 - acc: 0.9860 - val_loss: 0.3617 - val_acc: 0.8525\n",
      "Epoch 53/500\n",
      " - 0s - loss: 0.1163 - acc: 0.9930 - val_loss: 0.3602 - val_acc: 0.8525\n",
      "Epoch 54/500\n",
      " - 0s - loss: 0.1273 - acc: 0.9790 - val_loss: 0.3601 - val_acc: 0.8525\n",
      "Epoch 55/500\n",
      " - 0s - loss: 0.1199 - acc: 0.9860 - val_loss: 0.3595 - val_acc: 0.8525\n",
      "Epoch 56/500\n",
      " - 0s - loss: 0.1239 - acc: 0.9720 - val_loss: 0.3593 - val_acc: 0.8525\n",
      "Epoch 57/500\n",
      " - 0s - loss: 0.1190 - acc: 0.9860 - val_loss: 0.3591 - val_acc: 0.8525\n",
      "Epoch 58/500\n",
      " - 0s - loss: 0.0902 - acc: 1.0000 - val_loss: 0.3586 - val_acc: 0.8689\n",
      "Epoch 59/500\n",
      " - 0s - loss: 0.1006 - acc: 0.9790 - val_loss: 0.3582 - val_acc: 0.8689\n",
      "Epoch 60/500\n",
      " - 0s - loss: 0.1041 - acc: 0.9930 - val_loss: 0.3581 - val_acc: 0.8689\n",
      "Epoch 61/500\n",
      " - 0s - loss: 0.0912 - acc: 0.9930 - val_loss: 0.3579 - val_acc: 0.8689\n",
      "Epoch 62/500\n",
      " - 0s - loss: 0.0992 - acc: 0.9790 - val_loss: 0.3574 - val_acc: 0.8689\n",
      "Epoch 63/500\n",
      " - 0s - loss: 0.0990 - acc: 0.9860 - val_loss: 0.3568 - val_acc: 0.8689\n",
      "Epoch 64/500\n",
      " - 0s - loss: 0.0889 - acc: 0.9860 - val_loss: 0.3560 - val_acc: 0.8689\n",
      "Epoch 65/500\n",
      " - 0s - loss: 0.0849 - acc: 0.9930 - val_loss: 0.3553 - val_acc: 0.8689\n",
      "Epoch 66/500\n",
      " - 0s - loss: 0.0869 - acc: 0.9930 - val_loss: 0.3546 - val_acc: 0.8689\n",
      "Epoch 67/500\n",
      " - 0s - loss: 0.0950 - acc: 0.9860 - val_loss: 0.3546 - val_acc: 0.8689\n",
      "Epoch 68/500\n",
      " - 0s - loss: 0.0808 - acc: 0.9860 - val_loss: 0.3542 - val_acc: 0.8689\n",
      "Epoch 69/500\n",
      " - 0s - loss: 0.0803 - acc: 0.9930 - val_loss: 0.3542 - val_acc: 0.8689\n",
      "Epoch 70/500\n",
      " - 0s - loss: 0.0860 - acc: 0.9860 - val_loss: 0.3539 - val_acc: 0.8689\n",
      "Epoch 71/500\n",
      " - 0s - loss: 0.0673 - acc: 1.0000 - val_loss: 0.3540 - val_acc: 0.8689\n",
      "Epoch 72/500\n",
      " - 0s - loss: 0.0887 - acc: 0.9860 - val_loss: 0.3538 - val_acc: 0.8689\n",
      "Epoch 73/500\n",
      " - 0s - loss: 0.0663 - acc: 0.9930 - val_loss: 0.3539 - val_acc: 0.8689\n",
      "Epoch 74/500\n",
      " - 0s - loss: 0.0739 - acc: 0.9930 - val_loss: 0.3532 - val_acc: 0.8689\n",
      "Epoch 75/500\n",
      " - 0s - loss: 0.0746 - acc: 0.9930 - val_loss: 0.3521 - val_acc: 0.8689\n",
      "Epoch 76/500\n",
      " - 0s - loss: 0.0796 - acc: 1.0000 - val_loss: 0.3514 - val_acc: 0.8689\n",
      "Epoch 77/500\n",
      " - 0s - loss: 0.0735 - acc: 0.9860 - val_loss: 0.3505 - val_acc: 0.8689\n",
      "Epoch 78/500\n",
      " - 0s - loss: 0.0735 - acc: 0.9720 - val_loss: 0.3504 - val_acc: 0.8689\n",
      "Epoch 79/500\n",
      " - 0s - loss: 0.0657 - acc: 0.9930 - val_loss: 0.3504 - val_acc: 0.8689\n",
      "Epoch 80/500\n",
      " - 0s - loss: 0.0684 - acc: 1.0000 - val_loss: 0.3504 - val_acc: 0.8689\n"
     ]
    }
   ],
   "source": [
    "#callbacks will prevent model from running if val_loss starts to increase\n",
    "callbacks = [tf.keras.callbacks.EarlyStopping(\n",
    "        monitor='val_loss', patience=2)]\n",
    "\n",
    "history = model.fit(trainData,\n",
    "                    trainLabels,\n",
    "                    epochs=500,\n",
    "                    callbacks = callbacks,\n",
    "                    batch_size=32,\n",
    "                    validation_data=(valData, validationLabels),\n",
    "                    verbose=2)"
   ]
  },
  {
   "cell_type": "code",
   "execution_count": 14,
   "metadata": {},
   "outputs": [
    {
     "name": "stdout",
     "output_type": "stream",
     "text": [
      "540/540 [==============================] - 0s 85us/step\n",
      "[0.6644971436924405, 0.6759259263674419]\n"
     ]
    }
   ],
   "source": [
    "#Evalueating model on the testset\n",
    "#[loss, accuracy]\n",
    "print(model.evaluate(testData, testLabels))"
   ]
  },
  {
   "cell_type": "code",
   "execution_count": 15,
   "metadata": {},
   "outputs": [
    {
     "data": {
      "text/plain": [
       "['acc', 'loss', 'val_acc', 'val_loss']"
      ]
     },
     "execution_count": 15,
     "metadata": {},
     "output_type": "execute_result"
    }
   ],
   "source": [
    "#The rest of the notebook helps vidualize losses and accuracies by ploting two separate grophs\n",
    "history_dict = history.history\n",
    "history_dict.keys()"
   ]
  },
  {
   "cell_type": "code",
   "execution_count": 16,
   "metadata": {
    "scrolled": true
   },
   "outputs": [
    {
     "data": {
      "image/png": "[encoded data removed]",
      "text/plain": [
       "<Figure size 432x288 with 1 Axes>"
      ]
     },
     "metadata": {
      "needs_background": "light"
     },
     "output_type": "display_data"
    }
   ],
   "source": [
    "acc = history.history['acc']\n",
    "val_acc = history.history['val_acc']\n",
    "loss = history.history['loss']\n",
    "val_loss = history.history['val_loss']\n",
    "\n",
    "epochs = range(1, len(acc) + 1)\n",
    "\n",
    "# \"bo\" is for \"blue dot\"\n",
    "plt.plot(epochs, loss, 'bo', label='Training loss')\n",
    "# b is for \"solid blue line\"\n",
    "plt.plot(epochs, val_loss, 'b', label='Validation loss')\n",
    "plt.title('Training and validation loss')\n",
    "plt.xlabel('Epochs')\n",
    "plt.ylabel('Loss')\n",
    "plt.legend()\n",
    "\n",
    "plt.show()"
   ]
  },
  {
   "cell_type": "code",
   "execution_count": 17,
   "metadata": {},
   "outputs": [
    {
     "data": {
      "image/png": "[encoded data removed]",
      "text/plain": [
       "<Figure size 432x288 with 1 Axes>"
      ]
     },
     "metadata": {
      "needs_background": "light"
     },
     "output_type": "display_data"
    }
   ],
   "source": [
    "plt.clf() #clear figure\n",
    "acc_values = history_dict['acc']\n",
    "val_acc_values = history_dict['val_acc']\n",
    "\n",
    "plt.plot(epochs, acc, 'bo', label='Training acc')\n",
    "plt.plot(epochs, val_acc, 'b', label='Validation acc')\n",
    "plt.title('Training and validation accuracy')\n",
    "plt.xlabel('Epochs')\n",
    "plt.ylabel('Accuracy')\n",
    "plt.legend()\n",
    "\n",
    "plt.show()"
   ]
  }
 ],
 "metadata": {
  "kernelspec": {
   "display_name": "Python 2",
   "language": "python",
   "name": "python2"
  },
  "language_info": {
   "codemirror_mode": {
    "name": "ipython",
    "version": 2
   },
   "file_extension": ".py",
   "mimetype": "text/x-python",
   "name": "python",
   "nbconvert_exporter": "python",
   "pygments_lexer": "ipython2",
   "version": "2.7.12"
  }
 },
 "nbformat": 4,
 "nbformat_minor": 2
}
