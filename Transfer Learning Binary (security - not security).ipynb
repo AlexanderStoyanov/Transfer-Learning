{
 "cells": [
  {
   "cell_type": "code",
   "execution_count": 1,
   "metadata": {},
   "outputs": [],
   "source": [
    "#Partially adopted from Tensorflow/docs/basic_text_classification\n",
    "#https://github.com/tensorflow/docs/blob/master/site/en/tutorials/keras/basic_text_classification.ipynb\n",
    "\n",
    "#As well as https://developers.google.com/machine-learning/guides/text-classification/"
   ]
  },
  {
   "cell_type": "code",
   "execution_count": 2,
   "metadata": {},
   "outputs": [
    {
     "name": "stderr",
     "output_type": "stream",
     "text": [
      "Using TensorFlow backend.\n"
     ]
    },
    {
     "name": "stdout",
     "output_type": "stream",
     "text": [
      "1.11.0\n",
      "[nltk_data] Downloading package punkt to /root/nltk_data...\n",
      "[nltk_data]   Package punkt is already up-to-date!\n",
      "[nltk_data] Downloading package stopwords to /root/nltk_data...\n",
      "[nltk_data]   Package stopwords is already up-to-date!\n"
     ]
    }
   ],
   "source": [
    "import tensorflow as tf\n",
    "from tensorflow import keras\n",
    "from keras.utils import to_categorical\n",
    "from sklearn.utils import shuffle\n",
    "import matplotlib.pyplot as plt\n",
    "\n",
    "from sklearn.feature_extraction.text import TfidfVectorizer\n",
    "from sklearn.feature_selection import SelectKBest\n",
    "from sklearn.feature_selection import f_classif\n",
    "\n",
    "import numpy as np\n",
    "\n",
    "print(tf.__version__)\n",
    "\n",
    "import nltk\n",
    "nltk.download('punkt')\n",
    "from nltk.corpus import stopwords\n",
    "nltk.download('stopwords')\n",
    "stopWords = stopwords.words('english')\n",
    "from nltk import word_tokenize\n",
    "stemmer = nltk.stem.SnowballStemmer('english')"
   ]
  },
  {
   "cell_type": "code",
   "execution_count": 3,
   "metadata": {},
   "outputs": [],
   "source": [
    "#MAPPING SENTENCES TO LIBRARY\n",
    "import json\n",
    "\n",
    "#declare testLabels as an empty list\n",
    "testLabels = []\n",
    "\n",
    "#Keeping track of used sentences\n",
    "used = []\n",
    "\n",
    "#Keeping track of used sentences separately\n",
    "security = []\n",
    "nosecurity = []\n",
    "\n",
    "#this is the smallest number of unique non-functional requirements of a single class\n",
    "LIMIT = 270\n",
    "\n",
    "with open(\"Consolidated_data.txt\",\"r\") as f:\n",
    "    \n",
    "    #Go line by line in original data file\n",
    "    for line in f:\n",
    "        #find where class begins\n",
    "        front = line.find(\"\\\"class\\\":\\\"\")\n",
    "        #find where class ends (where sentence begins)\n",
    "        end = line.find(\"\\\",\\\"sentence\\\":\\\"\")\n",
    "        #substring line based on front and end above\n",
    "        reqClass = (line[(front+9):end]).lower()\n",
    "\n",
    "        #sentence\n",
    "        temp = line.find(\"\\\"sentence\\\":\\\"\")\n",
    "        #Cut out the sentence part\n",
    "        sentence = (line[(temp+12):-4]).lower()\n",
    "        #Remove all symbols, numbers, and spaces. Split into list of words\n",
    "        sentence = sentence.translate(None, '.,-\\\":;~!@#$%^&?[]{}<>`1234567890\\\\*()').strip().split(\" \")\n",
    "        #Unicode each word because stemmer likes it that way\n",
    "        sentence = [unicode(i, 'utf-8') for i in sentence]\n",
    "        #Stem each word separately\n",
    "        sentence = [stemmer.stem(i) for i in sentence]\n",
    "        #Check word by word, if the word is not in stop words and not a single letter, join\n",
    "        sentence = ' '.join(word for word in sentence if word not in stopWords and len(word) > 1)\n",
    "        \n",
    "        if sentence in used:\n",
    "            continue\n",
    "        else:\n",
    "            if \"security\" in reqClass and (len(security) < LIMIT):\n",
    "                used.append(sentence)\n",
    "                security.append(sentence)\n",
    "                testLabels.append(1)\n",
    "            elif \"security\" not in reqClass and (len(nosecurity) < LIMIT):\n",
    "                used.append(sentence)\n",
    "                nosecurity.append(sentence)\n",
    "                testLabels.append(0)"
   ]
  },
  {
   "cell_type": "code",
   "execution_count": 4,
   "metadata": {},
   "outputs": [
    {
     "name": "stdout",
     "output_type": "stream",
     "text": [
      "[u'click insur number see list clinic provid default id number', u'allow read access author user onli', u'password onli chang author counti system administr associ user', u'prevent modif audit record', u'hcp present list patient dlhcp need care becaus satisfi one preced condit', u'select provid list left person schedul wish set', u'describ employe class employe person control plan sponsor given access protect health inform disclos provid ani employe person receiv protect health inform relat payment health care oper matter pertain group health plan ordinari cours busi must includ descript', u'implement administr physic technic safeguard reason appropri protect confidenti integr avail electron protect health inform creat receiv maintain transmit behalf cover entiti requir subpart', u'establish permit use receiv limit data set', u'restrict access use employe person describ paragraph fiiia section plan administr function plan sponsor perform group health plan', u'implement administr physic technic safeguard reason appropri protect confidenti integr avail electron protect health inform creat receiv maintain transmit behalf group health plan', u'ii cover entiti must make reason effort limit access person class identifi paragraph dia section protect health inform consist paragraph dib section', u'ii custom servic includ provis data analys polici holder plan sponsor custom provid protect health inform disclos polici holder plan sponsor custom', u'ii cover entiti provid account research disclosur accord paragraph section reason like protect health inform individu disclos research protocol activ cover entiti shall request individu assist contact entiti sponsor research research', u'date time patient success authent', u'access patient demograph inform dlhcp', u'declar undeclar patient person repres', u'mark lab procedur complet', u'schedul appoint patient', u'sent patient messag', u'bold row show messag subject preced name sender timestamp visibl patient repres messag inbox', u'bold row show messag subject preced name sender timestamp visibl lhcp messag inbox', u'bold row show messag subject name sender timestamp visibl patient repres messag inbox fake email sent patient repres indic new messag lhcp', u'cover entiti may deni individu access provid individu given right denial review requir paragraph section follow circumst', u'deactiv patient modifi log system onli reactiv administr', u'fake email sent lhcp alert lhcp new messag repli arriv', u'fake email sent lhcp alert user new messag arriv', u'lab technician record result lab procedur', u'lab technician updat status lab procedur receiv', u'lab technician view assign lab procedur', u'lab technician view prioriti queue lab procedur', u'lhcp er choos view emerg report provid mid', u'messag remov sent advers event report lhcp involv report becaus lhcp prescrib drug administ immun', u'patient click view full calendar link view appoint current month togeth offic visit date prescript date lab procedur date current month display calendar current month', u'patient request schedul appoint lhcp', u'patient select report physiolog measur whose least one physiolog data type specifi monitor andfor patient repres', u'patient choos view patient specif instruct select link name patient specif instruct view head left hand menu', u'patient present list prescript drug prescrib possibl possibl taken last month', u'patient may one height data point one weight data point one pedomet data point ani one day report uap person repres', u'patient may physiolog data point ani one day report uap person repres', u'patient may view lab procedur result', u'patient may view lab procedur', u'patient patient repres wish repli messag', u'patient person health repres lhcp choos view prescript report', u'patient person health repres view itrust homepag', u'patient person health repres answer ani follow question relat previous uc offic visit accord data format', u'patient person health repres choos view medic record includ famili histori', u'patient person health repres may enter edit demograph inform includ secur question answer accord data format', u'patient view list referr', u'patient view detail referr', u'patient whose height weight pedomet data type specifi monitor choos report height weight pedomet data', u'public health agent present list immunizationrel advers event time period status remov sort cpt code', u'public health agent present list prescript drugrel advers event time period status remov sort ndc', u'receiv hcp view list receiv referr', u'row show messag subject preced name recipi timestamp visibl patient repres messag outbox', u'row show messag subject name recipi timestamp visibl lhcp messag outbox', u'send hcp cancel previous sent patient referr visit offic visit page view detail previous sent patient referr choos cancel', u'send hcp edit previous sent patient referr', u'send hcp refer patient anoth receiv hcp', u'send hcp view list previous sent patient referr', u'success login bring appoint calendar', u'uap patient repres input blood pressur glucos level height weight pedomet read patient', u'uap select report physiolog measur', u'user patient person health repres view basic inform design lhcps includ name phone number contact email inform', u'user patient choos display appoint current month togeth offic visit date prescript date lab procedur date current month calendar current month', u'user patient patient repres lhcp sort messag messag inbox either sender last name timestamp either ascend descend order timestamp descend order would recent first', u'user patient patient repres lhcp view number unread messag messag inbox', u'user patient patient repres lhcp wish read messag messag inbox outbox', u'user lhcp patient repres modifi messag display filter modifi follow filter criteria sender ie sender name exact specifi string', u'user lhcp patient choos display appoint current month calendar current month', u'user lhcp patient wish view list upcom appoint ie list includ appoint whose appoint date start time equal later current date time', u'user sort messag messag outbox recipi last name timestamp either ascend descend order', u'user choos view physician satisfact survey result', u'instal upgrad consid removingor ensur access follow script need general openemr use', u'access desir section click appropri tab enter patient data necessari click save', u'access function within rfs system depend privileg permiss assign role', u'access transact internet block', u'addit issu enter manner click back return patient summari page click add next appropri issu type click issu top page see complet list issu patient', u'administr privileg separ base role eg site content develop system administr', u'advanc appropri date use arrow top screen show new appoint list provid schedul', u'messag sent lhcp direct messag outbox', u'messag sent patient person repres direct messag outbox', u'administr manag standard list appoint type', u'administr choos maintain hospit list', u'hcp add commentari pend lab procedur', u'hcp add commentari pend lab procedur updat lab procedur status complet', u'hcp creat lab procedur given offic visit', u'hcp reassign previous creat lab procedur differ lab technician lab procedur yet test state', u'hcp remov previous creat lab procedur', u'hcp remov previous creat lab procedur given offic visit', u'hcp view previous creat lab procedur given offic visit', u'hcp choos offic visit remind identifi chronic patient need offic visit older patient need flu shot ani patient overdu immun', u'hcp choos add edit patient specif instruct document offic visit modifi alreadi document offic visit', u'hcp choos document edit offic visit', u'hcp choos enter edit person health inform', u'hcp may upload photo patient part patient demograph record', u'lhcp view itrust homepag', u'lhcp schedul appoint patient', u'lhcp see blood pressur glucos level weight height pedomet read patient monitor two separ list physiolog andheight weight pedomet read', u'lhcp view list upcom appoint request', u'lhcp choos send messag patient repres multipl recipi allow singl messag', u'lhcp patient repres modifi save messag display filter view messag inbox includ onli messag satisfi specifi filter criteria save filter', u'lhcp patient repres sort messag inbox messag outbox', u'lhcp uap add delet patient monitor list', u'lhcp select view addit inform patient', u'lhcp view list pend appoint request', u'lhcp view number submit physiolog data monitor report patient current date', u'lhcp view number submit weight pedomet data monitor report patient current date', u'lhcp want send messag patient possibl possibl patient person repres patient person repres want send messag one dlhcp person repres', u'lhcp wish repli messag', u'anoth dropdown contain list physician clinic address book refer patient', u'point lhcp view prescript list patient sort start date later date rank earlier', u'point lhcp obtain printabl report contain vital inform patient', u'click add select referr dropdown list begin new referr transact', u'click add schedul offic visit', u'click edit next transact edit content', u'click edit enter ani inform may incomplet', u'click find avail see list appoint time avail provid next day', u'click person name edit contact inform click add new enter new contact address book', u'click name new file view', u'click save immun', u'click save updat status appoint', u'click save finish', u'click save', u'click add pharmaci button enter contact inform clinic pharmaci', u'click continu button', u'click save link select issu select encount', u'click submit produc report encount date rang show patient demograph insur inform well bill code amount', u'cms offici name section successor', u'convers inpati discharg ambulatori team must abl access patient\\xe2\\u20ac\\u2122 clinic demograph histori', u'data recipi shall use appropri safeguard protect iihi misus inappropri disclosur prevent ani use disclosur iihi provid dua otherwis requir law regul', u'databas restrict access store procedur author account onli', u'direct access databas tabl prohibit', u'row list includ weight pedomet read number level record timestamp report data patient uap name person repres name', u'row messag inbox outbox includ messag subject name either sender onli case inbox recipi onli case outbox timestamp', u'user associ onli one filter save across login session appli onli save filter', u'enter appropri inform click save form return encount summari page', u'enter payment amount befor click save', u'enter payment amount next remain balanc check need secondari bill', u'enter note text field click save', u'enter partial valu one field click search button present list insur compani match paramet', u'establish implement need procedur obtain necessari electron protect health inform dure emerg', u'ext click document see list patient document upload', u'fill inform click save button add new number', u'entri patient basic health inform histori hcp present automaticallycalcul valu bmi format digit xxxx calcul base formula weight pound height inch height inch', u'exampl select detail establish patient dropdown add associ cpt code list', u'hcps return offic visit modifi delet field offic visit', u'report daili height format digit xxxx unit feet daili weight format digit unit lbs possibl possibl pedomet read format digit integ unit footstep', u'report blood pressur systol diastol possibl possibl glucos level patient', u'select patient enter data', u'present list patient allow report measur', u'present list patient whose least one physiolog data type specifi monitor allow report measur', u'present list patient whose height weight pedomet data type specifi monitor allow report measur', u'present actual oper profil oper itrust medic record use percentag total transact particular transact log type brokendown user type patient lhcp uhcp admin tester', u'also attach note document associ particular issu move differ categori patient', u'edit user password facil inform access control well author status', u'appoint shall display calendar', u'health care clearinghous part larger organ clearinghous must implement polici procedur protect electron protect health inform clearinghous unauthor access larger organ', u'patient sever outpati visit admit inpati care team must abl access patient\\xe2\\u20ac\\u2122 clinic histori', u'patient person health repres taken offic visit satisfact survey offic visit yet patient may choos take survey offic visit survey alreadi taken patient person health repres abil take survey view previous submit survey uc', u'primari provid enter patient select automat', u'doe click continu button', u'desir insur compani yet enter also add complet field click save new', u'lab procedur status mark complet patient see result hcpprovid comment', u'lhcp one patient dlhcp uap associ one dlhcp messag sent patient person repres', u'patient also insur parti select self dropdown list automat popul subscrib section relev data', u'patient alreadi system select new search menu begin enter inform', u'request appoint time doe conflict exist appoint patient present list three next nonoverlap avail appoint time within day request date', u'ad physician address book sure includ upin id number bill referr', u'patient phone would good time confirm contact insur inform date', u'implement electron mechan corrobor electron protect health inform alter destroy unauthor manner', u'implement polici procedur author access electron protect health inform consist applic requir subpart part', u'implement polici procedur grant access electron protect health inform exampl access workstat transact program process mechan', u'implement polici procedur base upon entiti access author polici establish document review modifi user right access workstat transact program process', u'implement polici procedur ensur member workforc appropri access electron protect health inform provid paragraph section prevent workforc member access paragraph section obtain access electron protect health inform', u'implement polici procedur limit physic access electron inform system facil facil hous ensur proper author access allow', u'implement polici procedur protect electron protect health inform improp alter destruct', u'implement procedur termin access electron protect health inform employ workforc member end requir determin made specifi paragraph aiib section', u'implement procedur author possibl possibl supervis workforc member work electron protect health inform locat might access', u'implement procedur control valid person access facil base role function includ visitor control control access softwar program test revis', u'implement procedur determin access workforc member electron protect health inform appropri', u'implement procedur regular review record inform system activ audit log access report secur incid track report', u'implement secur measur ensur electron transmit electron protect health inform improp modifi without detect dispos', u'implement technic polici procedur electron inform system maintain electron protect health inform allow access onli person softwar program grant access right specifi \\xe2\\xa7a', u'implement technic secur measur guard unauthor access electron protect health inform transmit electron communic network', u'add new person dialog box select type enter name address', u'calendar date entri laboratori procedur ie entri last status updat date shall display label loinc code laboratori procedur', u'calendar date entri prescript date ie date offic visit medic prescrib shall display label medic prescrib ie ndc see data format prescript', u'calendar date entri appoint shall display label appoint type name appoint', u'calendar date entri offic visit shall display label diagnos ie icdcm code offic visit', u'list transit lab procedur lab technician updat status receiv sampl receiv lab', u'search add patient page enter patient name birth date', u'includ search featur search select thousand bill code databas', u'lhcps patient repres may repli messag', u'lhcps edit delet futur appoint', u'log provid present calendar page show onli provid schedul default', u'loinc data file ad list allow physic servic includ laboratori procedur hcp use', u'look appropri bill code enter search term box left search button', u'make sure enter correct durat appoint click save', u'mous patient name display toottip inform patient date birth', u'next select histori top patient summari page bring page contain inform patient medic histori', u'note administr allow system interfac delet exist entri modifi hospit id number exist entri', u'note administr allow system interfac delet exist entri modifi reason id number exist entri', u'clinic practition set begin schedul appoint patient', u'see block avail time slot provid schedul', u'associ offic visit page patient see current status lab procedur hcp name timestamp', u'lhcp homepag lhcp view notif center list upcom appoint current date number physiolog data monitor report patient current date number weight pedomet data monitor report patient current date number unread messag messag inbox number new referr uc number pend lab procedur uc number pend appoint request uc', u'onc payment bill receiv secondari insur enter way', u'onc payment receiv enter invoic manner insur payment', u'onc date rang select lhcp see patient name patient phone number person repres name phone number applic blood pressur glucos level height weight pedomet read well report data patient uap name person repres name date rang', u'onc desir file select click upload save file openemr', u'onc new issu ad success see updat list issu enter patient', u'onc enter correct inform click save save ani chang add new compani list', u'onc user inform updat success click save return user group administr page', u\"onc you'v enter correct inform click save add new pharmaci\", u'onli applic input entri whose correspond data type patient specifi monitor display patient', u'onli applic input entri whose correspond data type patient specifi monitor display uap', u'openemr calendar system includ status indic allow doctor staff see glanc go appoint correspond encount day', u'provid see status ani given appoint indic symbol shown appoint time patient name', u'realtor shall abl generat cma report base properti criteria', u'right privileg assign base author role', u'role right privileg identifi maintain access control list', u'role map user data interfac', u'select histori top page view summari patient medic histori lifestyl inform', u'select appropri encount list right highlight', u'select patient insur compani dropdown list search click search add', u'select add new present form ad provid number anoth insur compani', u'select insur compani link top page bring list compani ad clinic', u'similar administr softwar tester ad direct enter softwar tester databas administr access databas', u'system allow author administr manag restrict privileg associ user group process includ', u'system allow author sitespecif user manag sitespecif user group user account includ level author', u'system allow restrict right privileg access process minimum requir author task', u'system allow restrict right privileg access user group level', u'system allow revoc access privileg user without requir delet user', u'system provid list privileg account holder within system host environ', u'system provid administr abil block users\\xe2\\u20ac\\u2122 access dure predefin offhour', u'system provid abil defin user role user group associ user account', u'system provid abil restrict access base users\\xe2\\u20ac\\u2122 accounts\\xe2\\u20ac\\u2122 privileg', u'system provid abil specifi role privileg base login locat', u'system requir password reentri befor user allow perform function predefin \\xe2\\u20ac\\u0153high security\\xe2\\u20ac\\x9d', u'system resourc map system role allow oper role', u'system restrict transact involv financi sensit data author user session origin counti intranet wan onli', u'admin must specifi specialti new lhcp general physician heart surgeon obgyn pediatrician surgeon new lt blood tissu general', u'administ present two list ndc code name', u'administr choos drug list record interact two drug', u'administr choos maintain overrid reason hcp select', u'administr may choos upload file contain loinc code inform', u'administr record delet drug interact two prescript drug', u'administr select file contain loinc inform choos upload', u'administr maintain list allow immun hcp use', u'administr maintain list allow physic servic includ laboratori procedur hcp use', u'administr store hospit id number hospit alphanumer charact give name hospit', u'administr store cpt code cpt code set accur describ medic surgic diagnost servic design communic uniform inform medic servic procedur among physician coder patient accredit organ payer administr financi analyt purpos', u'administr store icdcm code intern statist classif diseas relat health problem common known abbrevi icd provid code classifi diseas wide varieti sign symptom abnorm find complaint social circumst extern caus injuri diseas', u'administr store nation drug code nation drug code ndc univers product identifi use unit state drug intend human use', u'administr store inform loinc code logic observ identifi name code loinc databas univers standard identifi medic laboratori observ', u'answer survey store', u'appoint encount report report visit apptenc give use crossrefer appoint correspond encount', u'appoint report report visit appoint give list appoint given provid provid specifi date rang', u'bottom window also show ani note left provid patient', u'count shown includ number case exact zip code provid number case region region defin zip code match first three number provid zip code eg zip code provid data zip code xx analyz ani digit', u'cover entiti must extent possibl give individu access ani protect health inform request exclud protect health inform cover entiti ground deni access', u'data databas analyz accord influenza epidem heurist determin epidem occur region defin zip code match first three number provid zip code eg zip code provid data zip code xx analyz ani digit', u'data databas analyz accord malaria epidem heurist determin epidem occur region defin zip code match first three number provid zip code eg zip code provid data zip code xx analyz ani digit', u'data databas analyz accord risk factor diseas determin patient exhibit one risk factor', u'date entri includ conflict appoint highlight bold conflict appoint one overlap appoint durat period least anoth appoint user', u'disput system must prevent user access ani disput case belong cardhold base', u'disput system must provid differ level access regard disput case initi followup action', u'dropdown list abov popul ani bill code match search paramet', u'drug desir prescrib check patient drug allergi', u'session inact ten minut termin', u'disabl account day inact', u'password chang associ user onli onc day period', u'secur decis made base usersuppli file name path', u'system doe accept file name file path call function', u'user reauthent befor chang password', u'measur place protect inform accident overwritten', u'ensur confidenti integr avail electron protect health inform cover entiti creat receiv maintain transmit', u'protect ani reason anticip threat hazard secur integr inform', u'use appropri safeguard prevent use disclosur inform provid data use agreement', u'protect ani reason anticip use disclosur inform permit requir subpart part', u'descript process place ensur amount higher percent ffp claim state reimburs expenditur state payment medicaid elig provid certifi ehr technolog incent payment program methodolog verifi inform', u'descript process place ensur improv health outcom clinic qualiti effici result adopt certifi ehr technolog recipi medicaid incent payment methodolog verifi inform', u'descript process place ensur ani certifi ehr technolog use basi payment incent medicaid provid compat state feder administr manag system includ mmis autom claim process system inform retriev system methodolog verifi inform', u'protect health inform remov cover entiti research cours review', u'right receiv confidenti communic protect health inform provid \\xe2\\xa7b applic', u'use appropri safeguard prevent use disclosur inform provid contract', u'except respect disclosur \\xe2\\xa7 verifi ident person request protect health inform author ani person access protect health inform subpart ident ani author person known cover entiti', u'ii ensur adequ separ requir \\xe2\\xa7fiii support reason appropri secur measur', u'logon shall either compani employe extern user companyapprov user id', u'cover entiti must place appropri administr technic physic safeguard protect privaci protect health inform', u'patient authent itrust medic record system uc', u'secur risk assess requir complianc hipaa meaning use', u'softwar tester login password', u'consid firewal onli allow port https traffic server', u'consid ad specif sqlconfdotphp overrid set use patient portal especi onsit portal use use separ mysql user possibl databas', u'allow direct web access follow directori', u'enforc password expir set administrationglobalssecur', u'enforc strong uniqu password set administrationglobalssecur', u'ensur root password set someth', u'use portal want allow user access internet consid use clientsid certif onli allow user access site', u'want give access patient portal internet consid use clientsid certif onli allow user access main openemr login page', u'use xampp note softwar extrem unsecur instal need secur see the\\xe2\\xa0xampp secur instructions\\xe2\\xa0to secur xampp instal', u'server consid onli open port https', u'onli allow https ie turn http', u'onli allow ip address third parti portal access soap api patient access', u'password held standard requir chang interv', u'third parti portal could also set ssh tunnel method local openemr instanc open web possibl even requir ip address', u'third parti portal could set certif identifi server option secur', u'abil administr deleg author user group reset password', u'abil administr deleg author user group restor system access lock user', u'administr interfac requir strong authent author', u'instal finish secur file done root user', u'three fail attempt userid given session disallow attempt log via ip address minut see comment sourc code', u'addit new user modif user\\xe2\\u20ac\\u2122 access shall record user report', u'author user onc authent must abl logon disput system', u'credit card inform encrypt databas', u'custom inform store secur databas access onli author personnel', u'input paramet valid includ form field queri string cooki http header', u'system user account identifi', u'updat data file databas must initi disput system', u'user session involv financi transact sensit data encrypt use ssl/https', u'authent session end user log close itrust applic', u'exampl reflex test confirmatori test automat order screen test posit', u'rememb openemr usernam password case sensit', u'ani chang user password possibl possibl permiss take affect part system', u'appli appropri sanction workforc member fail compli secur polici procedur cover entiti', u'attempt access resourc use parent path block', u'conduct accur thorough assess potenti risk vulner confidenti integr avail electron protect health inform held cover entiti', u'conduct review secur risk analysi accord requir cfr implement secur updat necessari correct identifi secur defici part risk manag process', u'configur credenti authent token held plain text configur file', u'configur store secur unauthor access tamper', u'cooki contain wcs login inform user store user\\xe2\\u20ac\\u2122 comput', u'cooki sensit data eg authent cooki encrypt', u'cryptograph algorithm key size system\\xe2\\u20ac\\u2122 data encrypt requir ae bit stronger', u'custom longer abl access websit', u'data collect devic eg \\xe2\\u20ac\\u201c handheld devic etc synchron system secur use authent author encrypt mechan', u'data integr script run week basi verifi integr databas', u'data valid type length format rang', u'data valid consist across system', u'databas key connect password secret store plain text', u'databas file encrypt protect sensit data field data rest ie store data provid', u'databas mark account inact user abl log websit', u'dr susan poslusni dr juli donalek onli peopl shall access students\\xe2\\u20ac\\u2122 person inform', u'confer room reserv system contain inform enter user', u'team owner need use usernam password order authent reach team owner\\xe2\\u20ac\\u2122 page', u'electron session must termin ten minut inact', u'encrypt data deliv internet transmit via open protocol eg ssl xml encrypt', u'encrypt capabl certain data transmiss requir secur protect', u'encrypt key secur', u'ensur authent reset period inact exceed ten minut', u'everi user system shall authent author', u'fit criterion dr susan poslusni karen sysol onli peopl shall access final class section schedul system interfac campusconnect', u'eprescrib for\\xe2\\xa0cchit certif ehr system shall abil support twofactor authent', u'system provid access phi web browser interfac ie html http shall includ capabl encrypt data communic network via ssl html https', u'furthermor cms determin risk harm requir notif affect individu person secur breach possibl possibl remedi user agre carri remedi without cost cms', u'identifi respond suspect known secur incid mitig extent practic harm effect secur incid known cover entiti document secur incid outcom', u'identifi secur standard ssl fip encrypt', u'user account revok onli reinstanti system administr', u'structur queri languag sql authent use eg communic applic server databas server credenti secur storag wire via secur socket layer ssl ip secur ipsec', u'system includ hardwar system shall includ document cover expect physic environ necessari proper secur reliabl oper system includ electr hvac steril work area', u'first time log openemr recommend chang password someth secur', u'implement mechan encrypt decrypt electron protect health inform', u'implement mechan encrypt electron protect health inform whenev deem appropri', u'implement secur awar train program member workforc includ manag', u'implement electron procedur termin electron session predetermin time inact', u'implement physic safeguard workstat access electron protect health inform restrict access author user', u'implement polici procedur govern receipt remov hardwar electron media contain electron protect health inform facil movement item within facil', u'implement polici procedur specifi proper function perform manner function perform physic attribut surround specif workstat class workstat access electron protect health inform', u'implement polici procedur address secur incid', u'implement polici procedur address final disposit electron protect health inform possibl possibl hardwar electron media store', u'implement polici procedur document repair modif physic compon facil relat secur exampl hardwar wall door lock', u'implement polici procedur prevent detect contain correct secur violat', u'implement polici procedur safeguard facil equip therein unauthor physic access tamper theft', u'implement procedur remov electron protect health infoimpl polici procedur address final disposit electron protect health inform possibl possibl hardwar electron media storedrm electron media befor media made avail reus', u'implement procedur verifi person entiti seek access electron protect health inform one claim', u'implement secur measur suffici reduc risk vulner reason appropri level compli \\xe2\\xa7a', u'event system doe support prelogin capabl system shall display banner immedi follow author', u'inform encrypt databas', u'possibl assign access right subsystem independ', u'key manag procedur secur manag encrypt key defin', u'login openemr use assign usernam password', u'measur place detect unauthor chang inform', u'measur place prevent upload unauthor file eg execut file', u'measur place prevent detect log unauthor attempt access sensit confidenti data', u'measur place prevent detect log unauthor attempt access system', u'mid consid privat sensit inform', u'invalid data shall enter system', u'note openemr login casesensit', u'page display recommend warn regard directori apach allow outsid world see directori contain protect health inform', u'onli author user shall access rfs system', u'onli author user shall access clinic site inform', u'onli author user shall access students\\xe2\\u20ac\\u2122 person inform', u'onli author user shall access portion system interfac campusconnect', u'onli manag abl perform search queri reserv user', u'onli regist realtor shall abl access system', u'onli system administr shall abl reset revok user logon account', u'onli user exist ua system rfs system assign role shall access rfs system use', u'onli user updat access must abl initi disput request', u'onli valid data shall enter system', u'period secur updat', u'physic secur protect provid patient clinic asset physic manifest busi financi health inform', u'platformlevel cryptographi use custom implement', u'privat sensit data exampl password log', u'procedur creat chang safeguard password', u'procedur guard detect report malici softwar', u'procedur monitor login attempt report discrep', u'program administr nurs staff member onli peopl shall access clinic site detail', u'protect electron health inform creat maintain certifi ehr technolog implement appropri technic capabl', u'protect mechan place sensit data sent network', u'remot administr channel secur eg ssl vpn', u'remov mid display page url', u'secret store secur use oneway hash', u'secur decis reli http header inform', u'secur measur implement compli standard implement specif adopt \\xe2\\xa7 subpart must review modifi need continu provis reason appropri protect electron protect health inform describ \\xe2\\xa7', u'sensit data secret incorpor code', u'sensit data log clear text system', u'sensit data pass queri string form field', u'sensit data store persist cooki', u'sensit data transmit use insecur protocol ftp telnet tftp etc unless tunnel authent encrypt connect eg vpn', u'session identifi pass queri string', u'session lifetim limit prespecifi configur durat', u'session state protect unauthor access', u'ssl use protect authent cooki', u'system allow addit userdefin messag logon screen', u'system allow secur password reset case password forgotten', u'system allow user reauthent remot log activ user session befor log anoth locat', u'system allow view list user log system realtim', u'system authent standalon devic befor access allow protect resourc', u'system authent user befor ani access allow protect resourc eg protect health inform', u'system avoid untrust input file name file path', u'system code doe reli intern system generat error handl', u'system doe reli clientsid valid', u'system doe use parent path data within system access', u'system encrypt password befor store transmit', u'system encrypt sensit data transmit client server use secur socket layer ssl certif transport layer secur tls mean', u'system except handl minim inform disclosur case except', u'system abil disallow one activ session per signon identif', u'system insur input valid appli whenev input receiv user extern data interfac', u'system insur minimum error inform return event authent failur', u'system must support password complex meet follow requir', u'system perform secur seamless logon third parti integr system', u'system provid web https interfac provid ssl configur mechan', u'system provid automat timeout session idl prespecifi configur durat', u'system provid integr secur manag central account databas', u'system provid remind alert user reset password', u'system provid secur inform deliveri internet via encrypt use tripled data encrypt standard advanc encrypt standard ae', u'system provid follow password chang rule user account', u'system provid option multifactor authent user higher secur access', u'system restrict user direct access databas', u'system return generic error messag client avoid disclosur sensit inform', u'system shall let exist custom log websit email address password second', u'system use leastprivileg account', u'system warn user befor timeout prompt user reenter password', u'temporari object remov system databas connect close memori releas', u'administr authent itrust medic record system uc', u'counti standard user day', u'disput applic shall ensur onli author user allow logon applic', u'disput applic shall ensur onli user appropri access level allow initi disput request', u'disput applic shall manipul view busi data', u'disput system shall generat user report detail ani new user ad ani chang exist user\\xe2\\u20ac\\u2122 access level', u'equip store phi bi subject physic access restrict place server protect lock area limit access', u'first screen give general instruct ensur file directori permiss set correct', u'hcp authent itrust medic record system ucuc', u'hcp authent itrust medic record system uc', u'hcp authent itrust medic record systemuc', u'healthcar inform manag system societi himss provid a\\xe2\\xa0risk assess toolkit\\xe2\\xa0for conduct risk assess develop compliant secur plan', u'inact timeout shall configur', u'itrust user lchp authent itrust medic record system uc', u'itrust user lhcp patient authent itrust medic record system uc', u'itrust user patient hcp authent itrust medic record system uc', u'itrust user patient authent itrust medic record system uc', u'itrust user patient lhcp administr authent itrust medic record system ucuc', u'itrust user authent itrust medic record system uc', u'lead wash function verifi user authent right make paramet updat', u'password display clear text password mask', u'patient authent itrust medic record systemuc', u'product possibl possibl adjac hardwar softwar systems\\xe2\\u20ac\\u2122 data shall remain uncorrupt time malici data input product', u'product shall ensur onli access author user', u'product shall ensur onli compani employe extern user companyapprov user id may product access', u'product shall ensur database\\xe2\\u20ac\\u2122 data correspond data enter user', u'product shall free comput virus', u'product shall secur', u'product shall inform secur', u'product shall prevent data incorrect data introduc', u'product shall prevent input malici data', u'product shall provid authent author', u'product abl distinguish author unauthor user access attempt', u'propos shall provid adequ firewal protect order secur person data confidenti inform user ehr unauthor access third parti', u'propos shall provid facil requir host comput network environ includ appropri physic secur requir thirdparti softwar staff support monitor environment condit eg hvac port fire detect suppress moistur humid temperatur', u'propos shall review secur notif alert relev host platform eg notif bug attack patch appli appropri maintain highest level defens', u'purpos criteria provid abil remov user privileg maintain histori user system', u'report review audit purpos', u'safeguard shall provid level scope secur less level scope secur requir establish offic manag budget omb omb circular appendix iiisecur feder autom inform system http//wwwwhitehousegov/omb/circulars/a/ahtml well feder inform process standard entitl \\xe2\\u20ac\\u0153minimum secur requir feder inform inform systems\\xe2\\u20ac\\x9d http//csrcnistgov/publications/fips/fips/fipsfinalmarchpdf special public \\xe2\\u20ac\\u0153recommend secur control feder inform systems\\xe2\\u20ac\\x9d http//csrcnistgov/ publications/nistpubs/rev/sprevfin', u'softwar tester authent itrust medic record system uc', u'softwar use instal updat system independ mode method convey shall certifi free malevol softwar malwar', u'stream server antivirus softwar prevent infect malici virus', u'system design assum user input malici', u'system must abl associ permiss user use one follow access control userbas access right assign user rolebas user group access right assign group contextbas rolebas addit access right assign restrict base context transact timeofday workstationloc emergencymod etc system shall support remov user privileg without delet user system', u'system provid errorhandl process', u'system shall authent user befor ani access protect resourc eg phi allow includ connect network eg mobil devic', u'system shall automat notifi user forc chang password predefin frequenc', u'system shall built secur possibl malici interfer', u'system shall enabl multipl simultan user exclus authent', u'system shall enforc limit configur consecut invalid access attempt user', u'system shall enforc restrict set right privileg access need user group eg system administr cleric nurs doctor etc process act behalf user perform specifi task', u'system shall granular control access right major subsystem', u'system shall basic data integr check reduc possibl incorrect invalid data introduc', u'system shall abil secur modul maintain inhous system administr', u'system shall abil assign applic access right across entir suit applic singl point entri', u'system shall abil display last date time user log onto system time logon', u'system shall abil support bit ssl encrypt higher client browser applic tier ani modul submodul organ discret', u'system shall abil support biometr biometr plus password eg fingerprint scan fingerprint scan plus password', u'system shall abil support web base client access internet base client access technolog appropri secur access control', u'system shall includ document avail custom state whether known issu conflict secur servic least follow servic area antivirus intrus detect malwar erad hostbas firewal resolut conflict eg system note full virus scan done outsid peak usag time exclud databas', u'system shall includ document avail custom provid guidelin configur use secur control necessari support secur reliabl oper system includ limit creation modif deactiv user account manag role reset password configur password constraint audit log', u'system shall includ document item servic eg php web servic network protocols/port eg hl http ftp necessari proper oper servic system includ justif need servic protocol', u'system shall maintain consist secur', u'system shall onli access author corpor communiti grant ccr employe', u'system shall prevent malici attack includ denial servic', u'system shall protect possibl malici user authent attempt use appropri mechan eg lock account node releas administr lock account node configur time period delay next login prompt accord configur delay algorithm', u'system shall provid abil use singl user signon modul secur configur modul', u'system shall provid automat logout user activ predefin period maintain transact integr', u'system shall provid expir date password', u'system shall provid lockout capabl predefin number unsuccess user signon attempt', u'system shall provid onli limit feedback inform user dure authent', u'system shall support ensur authent remot node mutual node authent communic protect health inform phi internet known open network use open protocol eg tls ssl ipsec xml sig mime', u'system shall support protect confidenti protect health inform phi deliv internet known open network via encrypt use tripled des advanc encrypt standard ae open protocol tls ssl ipsec xml encrypt mime successor', u'system shall use organization\\xe2\\u20ac\\u2122 standard virus protect softwar help monitor threat', u'system upon detect inact interact session shall prevent view access system session termin session initi session lock remain effect user reestablish access use appropri identif authent procedur', u'system prior access ani phi shall display configur warn login banner eg system onli access author user', u'system store phi ani devic intend portabl remov eg thumbdriv cdrom pda notebook shall support use standard base encrypt format use tripled des advanc encrypt standard ae successor', u'time password chang predefin per user\\xe2\\u20ac\\u2122 role access level', u'user agre within user organ organ agent access data cover agreement shall limit minimum amount data minimum number individu necessari achiev purpos state section ie individual\\xe2\\u20ac\\u2122 access data needtoknow basi', u'user agre establish appropri administr technic physic safeguard protect confidenti data prevent unauthor use access', u'user may tri three time', u'valid approach constrain reject sanit input', u'wcs system shall allow automat login ani user', u'web server alway assert charact set local countri code en_us', u'weben portion applic shall meet stateoftheart internet standard graphic design speed reliabl secur dynam content user interact']\n"
     ]
    }
   ],
   "source": [
    "print used"
   ]
  },
  {
   "cell_type": "code",
   "execution_count": 5,
   "metadata": {},
   "outputs": [
    {
     "name": "stdout",
     "output_type": "stream",
     "text": [
      "270\n",
      "270\n",
      "540\n"
     ]
    }
   ],
   "source": [
    "#Must all be balanced for valid results.\n",
    "#Commented out the total number of sentences in the document.\n",
    "print len(security) #270\n",
    "print len(nosecurity)\n",
    "print len(used) #540"
   ]
  },
  {
   "cell_type": "code",
   "execution_count": 6,
   "metadata": {},
   "outputs": [],
   "source": [
    "import csv\n",
    "import requests\n",
    "\n",
    "S = requests.Session()\n",
    "URL = \"https://en.wikipedia.org/w/api.php\"\n",
    "\n",
    "def parseList(*titleList):\n",
    "    \n",
    "    train = []\n",
    "    \n",
    "    for title in titleList:\n",
    "        PARAMS = {\n",
    "        'action': \"parse\",\n",
    "        'page': title,\n",
    "        'prop': 'wikitext',\n",
    "        'format': \"json\"\n",
    "        }\n",
    "        \n",
    "        entries = []\n",
    "        pageContent = []\n",
    "        \n",
    "        res = S.get(url=URL, params=PARAMS)\n",
    "        data = res.json()\n",
    "        wikitext = data['parse']['wikitext']['*']\n",
    "        lines = wikitext.split('|-')\n",
    "        b = \",-\\\":;~!@#$%^&?[]{}<>`1234567890\\\\*()\\'/|=\"\n",
    "        for char in b:\n",
    "            lines[0] = lines[0].replace(char, \"\")\n",
    "\n",
    "        while lines[0].find(\"\\n\") is not (None or -1):\n",
    "            current = lines[0].find(\"\\n\")\n",
    "            entries.append(lines[0][:current+1])\n",
    "            lines[0] = lines[0][current+1:]\n",
    "\n",
    "        for line in entries:\n",
    "            index = entries.index(line)\n",
    "\n",
    "            #removing words that do not carry any meaning (longer than 16 chars)\n",
    "            for key in line.split(\" \"):\n",
    "                if len(key) > 16:\n",
    "                    line = line.replace(key, \"\")\n",
    "\n",
    "            #if line is not empty and wordcount > 20, line will be used for training\n",
    "            if line != '\\n' and (len(line.split(\" \")) > 20):\n",
    "                pageContent.append(line.strip())\n",
    "\n",
    "        for paragraph in pageContent:\n",
    "            for sentence in paragraph.split(\".\"):\n",
    "                sentence = sentence.strip().split(\" \")\n",
    "                if len(sentence) < 10:\n",
    "                    continue\n",
    "                #Stem each word separately\n",
    "                sentence = [stemmer.stem(i) for i in sentence]\n",
    "                #Check word by word, if the word is not in stop words and not a single letter, join\n",
    "                sentence = ' '.join(word for word in sentence if word not in stopWords and len(word) > 1)\n",
    "                train.append(sentence)\n",
    "        del entries[:]\n",
    "        del pageContent[:]\n",
    "        print title, \" parsed successfully\"\n",
    "    return train"
   ]
  },
  {
   "cell_type": "code",
   "execution_count": 7,
   "metadata": {},
   "outputs": [],
   "source": [
    "def makeLabels(trainData, labelNumber):\n",
    "    #generating labels list that matches pageContent list in length\n",
    "    labels = []\n",
    "    for x in range(0, len(trainData)):\n",
    "        labels.append(labelNumber)\n",
    "    print(\"Labels made successfully\")\n",
    "    return labels"
   ]
  },
  {
   "cell_type": "code",
   "execution_count": 8,
   "metadata": {},
   "outputs": [],
   "source": [
    "#Two lists with names of all Wikipedia pages to be parsed and used for training\n",
    "securityList = [\n",
    "    \"Information security\",\n",
    "    \"Mobile security\",\n",
    "    \"Computer security\",\n",
    "#     \"Computer network\",\n",
    "#     \"Network science\",\n",
    "#     \"Secure by default\",\n",
    "    \"Antivirus software\",\n",
    "    \"Firewall (computing)\",\n",
    "    \"Application security\",\n",
    "#     \"Intrusion detection system\"\n",
    "]\n",
    "\n",
    "notSecurityList = [\n",
    "    \"Medical diagnosis\",\n",
    "    \"Hospital\",\n",
    "    \"Medicine\",\n",
    "    \"Medication\",\n",
    "    \"Database administrator\",\n",
    "    \"Database design\",\n",
    "    \"Database model\",\n",
    "    \"Relational model\",\n",
    "    \"Network administrator\",\n",
    "    \"ISO/IEC 9126\",\n",
    "    \"Email\",\n",
    "    \"Privacy\",\n",
    "    \"Look and feel\",\n",
    "    \"Access control\",\n",
    "    \"Audit\",\n",
    "    \"Service-level agreement\",\n",
    "    \"Availability\",\n",
    "    \"Channel capacity\",\n",
    "    \"End-user license agreement\",\n",
    "    \"Robustness (computer science)\",\n",
    "    \"Software maintenance\",\n",
    "    \"Operability\",\n",
    "    \"Quality (business)\",\n",
    "    \"Usability\"\n",
    "]"
   ]
  },
  {
   "cell_type": "code",
   "execution_count": 9,
   "metadata": {},
   "outputs": [
    {
     "name": "stdout",
     "output_type": "stream",
     "text": [
      "Information security  parsed successfully\n",
      "Mobile security  parsed successfully\n",
      "Computer security  parsed successfully\n",
      "Antivirus software  parsed successfully\n",
      "Firewall (computing)  parsed successfully\n",
      "Application security  parsed successfully\n",
      "Medical diagnosis  parsed successfully\n",
      "Hospital  parsed successfully\n",
      "Medicine  parsed successfully\n",
      "Medication  parsed successfully\n",
      "Database administrator  parsed successfully\n",
      "Database design  parsed successfully\n",
      "Database model  parsed successfully\n",
      "Relational model  parsed successfully\n",
      "Network administrator  parsed successfully\n",
      "ISO/IEC 9126  parsed successfully\n",
      "Email  parsed successfully\n",
      "Privacy  parsed successfully\n",
      "Look and feel  parsed successfully\n",
      "Access control  parsed successfully\n",
      "Audit  parsed successfully\n",
      "Service-level agreement  parsed successfully\n",
      "Availability  parsed successfully\n",
      "Channel capacity  parsed successfully\n",
      "End-user license agreement  parsed successfully\n",
      "Robustness (computer science)  parsed successfully\n",
      "Software maintenance  parsed successfully\n",
      "Operability  parsed successfully\n",
      "Quality (business)  parsed successfully\n",
      "Usability  parsed successfully\n",
      "\n",
      "Security length:  1596\n",
      "Not Security length:  2766\n",
      "Labels made successfully\n",
      "Labels made successfully\n",
      "\n",
      "Test set length:  540\n",
      "Test labels set length:  540\n",
      "\n",
      "Validation set length:  638\n",
      "Validation labels set length:  638\n",
      "\n",
      "Train set length:  2554\n",
      "Train labels set length:  2554\n"
     ]
    }
   ],
   "source": [
    "#Parse two wikipedia pages\n",
    "security = parseList(*securityList)\n",
    "notSecurity = parseList(*notSecurityList)\n",
    "print \"\\nSecurity length: \", len(security)\n",
    "print \"Not Security length: \", len(notSecurity)\n",
    "\n",
    "#Make entries be same length, pick minimum of two lengths\n",
    "deleteAfter = min(len(security), len(notSecurity))\n",
    "\n",
    "#If min length is less than 100 sentences, test is invalid\n",
    "if deleteAfter < 100:\n",
    "    print(\"!!!TEST IS INVALID!!!\")\n",
    "else:\n",
    "    del security[deleteAfter:]\n",
    "    del notSecurity[deleteAfter:]\n",
    "\n",
    "if(len(security) != len(notSecurity) and (len(security) != len(set(security)) or len(notSecurity) != len(set(notSecurity)))):\n",
    "    print(\"!!!TEST IS INVALID!!!\")\n",
    "else:\n",
    "    #Generate labels\n",
    "    trainLabels = makeLabels(security, 1)\n",
    "    trainLabels += makeLabels(notSecurity, 0)\n",
    "\n",
    "    #Collapse into single list\n",
    "    trainData = security + notSecurity\n",
    "\n",
    "    #Shuffle two lists, save the order\n",
    "    trainData, trainLabels = shuffle(trainData, trainLabels)\n",
    "    used, testLabels = shuffle(used, testLabels)\n",
    "\n",
    "    #Get validation data\n",
    "    validationToTrainRatio = 0.2\n",
    "    validationSize = int(validationToTrainRatio * len(trainData))\n",
    "    validationData = trainData[:validationSize]\n",
    "    validationLabels = trainLabels[:validationSize]\n",
    "    trainData = trainData[validationSize:]\n",
    "    trainLabels = trainLabels[validationSize:]\n",
    "\n",
    "    \n",
    "    #Sanity check\n",
    "    print \"\\nTest set length: \", len(used)\n",
    "    print \"Test labels set length: \", len(testLabels)\n",
    "    print \"\\nValidation set length: \", len(validationData)\n",
    "    print \"Validation labels set length: \", len(validationLabels)\n",
    "    print \"\\nTrain set length: \", len(trainData)\n",
    "    print \"Train labels set length: \", len(trainLabels)"
   ]
  },
  {
   "cell_type": "code",
   "execution_count": 10,
   "metadata": {},
   "outputs": [],
   "source": [
    "def ngram_vectorize(train_texts, train_labels, val_texts, test_texts):\n",
    "    \n",
    "    # Create keyword arguments to pass to the 'tf-idf' vectorizer.\n",
    "    kwargs = {\n",
    "            'ngram_range': (1,3),  # Use 1-grams + 2-grams + 3-grams.\n",
    "            'dtype': 'int32',\n",
    "            'strip_accents': 'unicode',\n",
    "            'decode_error': 'replace',\n",
    "            'analyzer': 'word',  # Split text into word tokens.\n",
    "            'min_df': 2, #Words that appear less than this value do not contribute\n",
    "    }\n",
    "    vectorizer = TfidfVectorizer(**kwargs)\n",
    "\n",
    "    # Learn vocabulary from training texts and vectorize training texts.\n",
    "    x_train = vectorizer.fit_transform(train_texts)\n",
    "\n",
    "    # Vectorize validation texts.\n",
    "    x_val = vectorizer.transform(val_texts)\n",
    "    \n",
    "    # Vectorize test texts.\n",
    "    x_test = vectorizer.transform(test_texts)\n",
    "\n",
    "    # Select top 'k' of the vectorized features.\n",
    "    selector = SelectKBest(f_classif, k=min(4000, x_train.shape[1]))\n",
    "    selector.fit(x_train, train_labels)\n",
    "    x_train = selector.transform(x_train).astype('float32')\n",
    "    x_val = selector.transform(x_val).astype('float32')\n",
    "    x_test = selector.transform(x_test).astype('float32')\n",
    "    return x_train, x_val, x_test"
   ]
  },
  {
   "cell_type": "code",
   "execution_count": 11,
   "metadata": {
    "scrolled": false
   },
   "outputs": [
    {
     "name": "stderr",
     "output_type": "stream",
     "text": [
      "/usr/local/lib/python2.7/dist-packages/sklearn/feature_extraction/text.py:1547: UserWarning: Only (<type 'numpy.float64'>, <type 'numpy.float32'>, <type 'numpy.float16'>) 'dtype' should be used. int32 'dtype' will be converted to np.float64.\n",
      "  UserWarning)\n"
     ]
    }
   ],
   "source": [
    "trainData, valData, testData = ngram_vectorize(trainData, trainLabels, validationData, used)"
   ]
  },
  {
   "cell_type": "code",
   "execution_count": 12,
   "metadata": {},
   "outputs": [],
   "source": [
    "#Constructing the model method\n",
    "def mlp_model(layers, units, dropout_rate, input_shape, num_classes):\n",
    "    model = keras.Sequential()\n",
    "    model.add(keras.layers.Dropout(rate=dropout_rate, input_shape=input_shape))\n",
    "    for _ in range(layers-1):\n",
    "        model.add(keras.layers.Dense(units=units, activation=tf.nn.relu))\n",
    "        model.add(keras.layers.Dropout(rate=dropout_rate))\n",
    "\n",
    "    model.add(keras.layers.Dense(units=num_classes, activation=tf.nn.sigmoid))\n",
    "    return model"
   ]
  },
  {
   "cell_type": "code",
   "execution_count": 13,
   "metadata": {},
   "outputs": [
    {
     "name": "stdout",
     "output_type": "stream",
     "text": [
      "_________________________________________________________________\n",
      "Layer (type)                 Output Shape              Param #   \n",
      "=================================================================\n",
      "dropout (Dropout)            (None, 4000)              0         \n",
      "_________________________________________________________________\n",
      "dense (Dense)                (None, 32)                128032    \n",
      "_________________________________________________________________\n",
      "dropout_1 (Dropout)          (None, 32)                0         \n",
      "_________________________________________________________________\n",
      "dense_1 (Dense)              (None, 1)                 33        \n",
      "=================================================================\n",
      "Total params: 128,065\n",
      "Trainable params: 128,065\n",
      "Non-trainable params: 0\n",
      "_________________________________________________________________\n"
     ]
    }
   ],
   "source": [
    "#For parameters refer to the upper cell\n",
    "model = mlp_model(2, 32, 0.3, trainData.shape[1:], 1)\n",
    "model.summary()"
   ]
  },
  {
   "cell_type": "code",
   "execution_count": 14,
   "metadata": {},
   "outputs": [],
   "source": [
    "#Learning rate could be further decreased for additional accuracy\n",
    "model.compile(optimizer=tf.train.AdamOptimizer(learning_rate=0.001),\n",
    "              loss='binary_crossentropy',\n",
    "              metrics=['accuracy'])"
   ]
  },
  {
   "cell_type": "code",
   "execution_count": 15,
   "metadata": {
    "scrolled": true
   },
   "outputs": [
    {
     "name": "stdout",
     "output_type": "stream",
     "text": [
      "Train on 2554 samples, validate on 638 samples\n",
      "Epoch 1/100\n",
      " - 1s - loss: 0.6893 - acc: 0.6151 - val_loss: 0.6828 - val_acc: 0.8464\n",
      "Epoch 2/100\n",
      " - 0s - loss: 0.6735 - acc: 0.8496 - val_loss: 0.6640 - val_acc: 0.9075\n",
      "Epoch 3/100\n",
      " - 0s - loss: 0.6491 - acc: 0.9103 - val_loss: 0.6378 - val_acc: 0.9138\n",
      "Epoch 4/100\n",
      " - 0s - loss: 0.6181 - acc: 0.9248 - val_loss: 0.6084 - val_acc: 0.9216\n",
      "Epoch 5/100\n",
      " - 0s - loss: 0.5837 - acc: 0.9366 - val_loss: 0.5779 - val_acc: 0.9248\n",
      "Epoch 6/100\n",
      " - 0s - loss: 0.5493 - acc: 0.9401 - val_loss: 0.5469 - val_acc: 0.9232\n",
      "Epoch 7/100\n",
      " - 0s - loss: 0.5127 - acc: 0.9417 - val_loss: 0.5160 - val_acc: 0.9232\n",
      "Epoch 8/100\n",
      " - 0s - loss: 0.4767 - acc: 0.9530 - val_loss: 0.4858 - val_acc: 0.9248\n",
      "Epoch 9/100\n",
      " - 0s - loss: 0.4451 - acc: 0.9444 - val_loss: 0.4570 - val_acc: 0.9263\n",
      "Epoch 10/100\n",
      " - 0s - loss: 0.4093 - acc: 0.9526 - val_loss: 0.4297 - val_acc: 0.9263\n",
      "Epoch 11/100\n",
      " - 0s - loss: 0.3847 - acc: 0.9542 - val_loss: 0.4043 - val_acc: 0.9295\n",
      "Epoch 12/100\n",
      " - 0s - loss: 0.3583 - acc: 0.9514 - val_loss: 0.3810 - val_acc: 0.9295\n",
      "Epoch 13/100\n",
      " - 0s - loss: 0.3341 - acc: 0.9522 - val_loss: 0.3598 - val_acc: 0.9295\n",
      "Epoch 14/100\n",
      " - 0s - loss: 0.3165 - acc: 0.9577 - val_loss: 0.3406 - val_acc: 0.9295\n",
      "Epoch 15/100\n",
      " - 0s - loss: 0.2928 - acc: 0.9569 - val_loss: 0.3234 - val_acc: 0.9310\n",
      "Epoch 16/100\n",
      " - 0s - loss: 0.2730 - acc: 0.9530 - val_loss: 0.3081 - val_acc: 0.9295\n",
      "Epoch 17/100\n",
      " - 0s - loss: 0.2608 - acc: 0.9573 - val_loss: 0.2940 - val_acc: 0.9295\n",
      "Epoch 18/100\n",
      " - 0s - loss: 0.2485 - acc: 0.9542 - val_loss: 0.2816 - val_acc: 0.9279\n",
      "Epoch 19/100\n",
      " - 0s - loss: 0.2328 - acc: 0.9546 - val_loss: 0.2704 - val_acc: 0.9310\n",
      "Epoch 20/100\n",
      " - 0s - loss: 0.2221 - acc: 0.9569 - val_loss: 0.2603 - val_acc: 0.9326\n",
      "Epoch 21/100\n",
      " - 0s - loss: 0.2108 - acc: 0.9577 - val_loss: 0.2515 - val_acc: 0.9326\n",
      "Epoch 22/100\n",
      " - 0s - loss: 0.2024 - acc: 0.9561 - val_loss: 0.2433 - val_acc: 0.9295\n",
      "Epoch 23/100\n",
      " - 0s - loss: 0.1960 - acc: 0.9569 - val_loss: 0.2363 - val_acc: 0.9279\n",
      "Epoch 24/100\n",
      " - 0s - loss: 0.1878 - acc: 0.9511 - val_loss: 0.2298 - val_acc: 0.9279\n",
      "Epoch 25/100\n",
      " - 0s - loss: 0.1786 - acc: 0.9640 - val_loss: 0.2238 - val_acc: 0.9295\n",
      "Epoch 26/100\n",
      " - 0s - loss: 0.1703 - acc: 0.9648 - val_loss: 0.2186 - val_acc: 0.9310\n",
      "Epoch 27/100\n",
      " - 0s - loss: 0.1658 - acc: 0.9593 - val_loss: 0.2140 - val_acc: 0.9326\n",
      "Epoch 28/100\n",
      " - 0s - loss: 0.1584 - acc: 0.9675 - val_loss: 0.2096 - val_acc: 0.9342\n",
      "Epoch 29/100\n",
      " - 0s - loss: 0.1535 - acc: 0.9644 - val_loss: 0.2054 - val_acc: 0.9326\n",
      "Epoch 30/100\n",
      " - 0s - loss: 0.1481 - acc: 0.9702 - val_loss: 0.2016 - val_acc: 0.9326\n",
      "Epoch 31/100\n",
      " - 0s - loss: 0.1417 - acc: 0.9640 - val_loss: 0.1983 - val_acc: 0.9310\n",
      "Epoch 32/100\n",
      " - 0s - loss: 0.1425 - acc: 0.9644 - val_loss: 0.1952 - val_acc: 0.9310\n",
      "Epoch 33/100\n",
      " - 0s - loss: 0.1418 - acc: 0.9636 - val_loss: 0.1923 - val_acc: 0.9295\n",
      "Epoch 34/100\n",
      " - 0s - loss: 0.1319 - acc: 0.9687 - val_loss: 0.1896 - val_acc: 0.9295\n",
      "Epoch 35/100\n",
      " - 0s - loss: 0.1311 - acc: 0.9671 - val_loss: 0.1870 - val_acc: 0.9326\n",
      "Epoch 36/100\n",
      " - 0s - loss: 0.1275 - acc: 0.9675 - val_loss: 0.1848 - val_acc: 0.9310\n",
      "Epoch 37/100\n",
      " - 0s - loss: 0.1212 - acc: 0.9722 - val_loss: 0.1826 - val_acc: 0.9326\n",
      "Epoch 38/100\n",
      " - 0s - loss: 0.1200 - acc: 0.9699 - val_loss: 0.1804 - val_acc: 0.9326\n",
      "Epoch 39/100\n",
      " - 0s - loss: 0.1260 - acc: 0.9695 - val_loss: 0.1783 - val_acc: 0.9310\n",
      "Epoch 40/100\n",
      " - 0s - loss: 0.1159 - acc: 0.9691 - val_loss: 0.1766 - val_acc: 0.9310\n",
      "Epoch 41/100\n",
      " - 0s - loss: 0.1155 - acc: 0.9695 - val_loss: 0.1750 - val_acc: 0.9326\n",
      "Epoch 42/100\n",
      " - 0s - loss: 0.1130 - acc: 0.9671 - val_loss: 0.1737 - val_acc: 0.9326\n",
      "Epoch 43/100\n",
      " - 0s - loss: 0.1104 - acc: 0.9706 - val_loss: 0.1724 - val_acc: 0.9342\n",
      "Epoch 44/100\n",
      " - 0s - loss: 0.1078 - acc: 0.9699 - val_loss: 0.1713 - val_acc: 0.9326\n",
      "Epoch 45/100\n",
      " - 0s - loss: 0.1097 - acc: 0.9683 - val_loss: 0.1703 - val_acc: 0.9326\n",
      "Epoch 46/100\n",
      " - 0s - loss: 0.1064 - acc: 0.9675 - val_loss: 0.1691 - val_acc: 0.9310\n",
      "Epoch 47/100\n",
      " - 0s - loss: 0.1073 - acc: 0.9695 - val_loss: 0.1679 - val_acc: 0.9310\n",
      "Epoch 48/100\n",
      " - 0s - loss: 0.1004 - acc: 0.9714 - val_loss: 0.1666 - val_acc: 0.9342\n",
      "Epoch 49/100\n",
      " - 0s - loss: 0.0989 - acc: 0.9722 - val_loss: 0.1656 - val_acc: 0.9342\n",
      "Epoch 50/100\n",
      " - 0s - loss: 0.0957 - acc: 0.9730 - val_loss: 0.1646 - val_acc: 0.9357\n",
      "Epoch 51/100\n",
      " - 0s - loss: 0.0970 - acc: 0.9702 - val_loss: 0.1637 - val_acc: 0.9326\n",
      "Epoch 52/100\n",
      " - 0s - loss: 0.0889 - acc: 0.9785 - val_loss: 0.1632 - val_acc: 0.9342\n",
      "Epoch 53/100\n",
      " - 0s - loss: 0.0932 - acc: 0.9726 - val_loss: 0.1627 - val_acc: 0.9342\n",
      "Epoch 54/100\n",
      " - 0s - loss: 0.0918 - acc: 0.9734 - val_loss: 0.1619 - val_acc: 0.9357\n",
      "Epoch 55/100\n",
      " - 0s - loss: 0.0929 - acc: 0.9702 - val_loss: 0.1614 - val_acc: 0.9326\n",
      "Epoch 56/100\n",
      " - 0s - loss: 0.0841 - acc: 0.9765 - val_loss: 0.1607 - val_acc: 0.9326\n",
      "Epoch 57/100\n",
      " - 0s - loss: 0.0817 - acc: 0.9785 - val_loss: 0.1601 - val_acc: 0.9310\n",
      "Epoch 58/100\n",
      " - 0s - loss: 0.0844 - acc: 0.9730 - val_loss: 0.1597 - val_acc: 0.9326\n",
      "Epoch 59/100\n",
      " - 0s - loss: 0.0856 - acc: 0.9745 - val_loss: 0.1594 - val_acc: 0.9326\n",
      "Epoch 60/100\n",
      " - 0s - loss: 0.0840 - acc: 0.9749 - val_loss: 0.1589 - val_acc: 0.9342\n",
      "Epoch 61/100\n",
      " - 0s - loss: 0.0836 - acc: 0.9749 - val_loss: 0.1584 - val_acc: 0.9373\n",
      "Epoch 62/100\n",
      " - 0s - loss: 0.0824 - acc: 0.9777 - val_loss: 0.1584 - val_acc: 0.9389\n",
      "Epoch 63/100\n",
      " - 0s - loss: 0.0793 - acc: 0.9769 - val_loss: 0.1581 - val_acc: 0.9373\n",
      "Epoch 64/100\n",
      " - 0s - loss: 0.0781 - acc: 0.9769 - val_loss: 0.1579 - val_acc: 0.9342\n",
      "Epoch 65/100\n",
      " - 0s - loss: 0.0760 - acc: 0.9753 - val_loss: 0.1573 - val_acc: 0.9342\n",
      "Epoch 66/100\n",
      " - 0s - loss: 0.0829 - acc: 0.9726 - val_loss: 0.1566 - val_acc: 0.9342\n",
      "Epoch 67/100\n",
      " - 0s - loss: 0.0799 - acc: 0.9781 - val_loss: 0.1564 - val_acc: 0.9342\n",
      "Epoch 68/100\n",
      " - 0s - loss: 0.0772 - acc: 0.9757 - val_loss: 0.1562 - val_acc: 0.9357\n",
      "Epoch 69/100\n",
      " - 0s - loss: 0.0782 - acc: 0.9761 - val_loss: 0.1563 - val_acc: 0.9357\n",
      "Epoch 70/100\n",
      " - 0s - loss: 0.0806 - acc: 0.9738 - val_loss: 0.1562 - val_acc: 0.9373\n"
     ]
    }
   ],
   "source": [
    "#callbacks will prevent model from running if val_loss starts to increase\n",
    "callbacks = [tf.keras.callbacks.EarlyStopping(\n",
    "        monitor='val_loss', patience=2)]\n",
    "\n",
    "history = model.fit(trainData,\n",
    "                    trainLabels,\n",
    "                    epochs=100,\n",
    "                    callbacks = callbacks,\n",
    "                    batch_size=256,\n",
    "                    validation_data=(valData, validationLabels),\n",
    "                    verbose=2)"
   ]
  },
  {
   "cell_type": "code",
   "execution_count": 16,
   "metadata": {},
   "outputs": [
    {
     "name": "stdout",
     "output_type": "stream",
     "text": [
      "540/540 [==============================] - 0s 78us/step\n",
      "[0.6217208826983417, 0.7833333342163651]\n"
     ]
    }
   ],
   "source": [
    "#Evalueating model on the testset\n",
    "#[loss, accuracy]\n",
    "print(model.evaluate(testData, testLabels))"
   ]
  },
  {
   "cell_type": "code",
   "execution_count": 17,
   "metadata": {},
   "outputs": [
    {
     "data": {
      "text/plain": [
       "['acc', 'loss', 'val_acc', 'val_loss']"
      ]
     },
     "execution_count": 17,
     "metadata": {},
     "output_type": "execute_result"
    }
   ],
   "source": [
    "#The rest of the notebook helps vidualize losses and accuracies by ploting two separate grophs\n",
    "history_dict = history.history\n",
    "history_dict.keys()"
   ]
  },
  {
   "cell_type": "code",
   "execution_count": 18,
   "metadata": {
    "scrolled": true
   },
   "outputs": [
    {
     "data": {
      "image/png": "[encoded data removed]",
      "text/plain": [
       "<Figure size 432x288 with 1 Axes>"
      ]
     },
     "metadata": {
      "needs_background": "light"
     },
     "output_type": "display_data"
    }
   ],
   "source": [
    "acc = history.history['acc']\n",
    "val_acc = history.history['val_acc']\n",
    "loss = history.history['loss']\n",
    "val_loss = history.history['val_loss']\n",
    "\n",
    "epochs = range(1, len(acc) + 1)\n",
    "\n",
    "# \"bo\" is for \"blue dot\"\n",
    "plt.plot(epochs, loss, 'bo', label='Training loss')\n",
    "# b is for \"solid blue line\"\n",
    "plt.plot(epochs, val_loss, 'b', label='Validation loss')\n",
    "plt.title('Training and validation loss')\n",
    "plt.xlabel('Epochs')\n",
    "plt.ylabel('Loss')\n",
    "plt.legend()\n",
    "\n",
    "plt.show()"
   ]
  },
  {
   "cell_type": "code",
   "execution_count": 19,
   "metadata": {},
   "outputs": [
    {
     "data": {
      "image/png": "[encoded data removed]",
      "text/plain": [
       "<Figure size 432x288 with 1 Axes>"
      ]
     },
     "metadata": {
      "needs_background": "light"
     },
     "output_type": "display_data"
    }
   ],
   "source": [
    "plt.clf() #clear figure\n",
    "acc_values = history_dict['acc']\n",
    "val_acc_values = history_dict['val_acc']\n",
    "\n",
    "plt.plot(epochs, acc, 'bo', label='Training acc')\n",
    "plt.plot(epochs, val_acc, 'b', label='Validation acc')\n",
    "plt.title('Training and validation accuracy')\n",
    "plt.xlabel('Epochs')\n",
    "plt.ylabel('Accuracy')\n",
    "plt.legend()\n",
    "\n",
    "plt.show()"
   ]
  }
 ],
 "metadata": {
  "kernelspec": {
   "display_name": "Python 2",
   "language": "python",
   "name": "python2"
  },
  "language_info": {
   "codemirror_mode": {
    "name": "ipython",
    "version": 2
   },
   "file_extension": ".py",
   "mimetype": "text/x-python",
   "name": "python",
   "nbconvert_exporter": "python",
   "pygments_lexer": "ipython2",
   "version": "2.7.12"
  }
 },
 "nbformat": 4,
 "nbformat_minor": 2
}
