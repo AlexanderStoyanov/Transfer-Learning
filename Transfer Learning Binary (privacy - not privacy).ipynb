{
 "cells": [
  {
   "cell_type": "code",
   "execution_count": 1,
   "metadata": {},
   "outputs": [],
   "source": [
    "#Partially adopted from Tensorflow/docs/basic_text_classification\n",
    "#https://github.com/tensorflow/docs/blob/master/site/en/tutorials/keras/basic_text_classification.ipynb\n",
    "\n",
    "#As well as https://developers.google.com/machine-learning/guides/text-classification/"
   ]
  },
  {
   "cell_type": "code",
   "execution_count": 2,
   "metadata": {},
   "outputs": [
    {
     "name": "stderr",
     "output_type": "stream",
     "text": [
      "Using TensorFlow backend.\n"
     ]
    },
    {
     "name": "stdout",
     "output_type": "stream",
     "text": [
      "1.11.0\n",
      "[nltk_data] Downloading package punkt to /root/nltk_data...\n",
      "[nltk_data]   Package punkt is already up-to-date!\n",
      "[nltk_data] Downloading package stopwords to /root/nltk_data...\n",
      "[nltk_data]   Package stopwords is already up-to-date!\n"
     ]
    }
   ],
   "source": [
    "import tensorflow as tf\n",
    "from tensorflow import keras\n",
    "from keras.utils import to_categorical\n",
    "from sklearn.utils import shuffle\n",
    "import matplotlib.pyplot as plt\n",
    "\n",
    "from sklearn.feature_extraction.text import TfidfVectorizer\n",
    "from sklearn.feature_selection import SelectKBest\n",
    "from sklearn.feature_selection import f_classif\n",
    "\n",
    "import numpy as np\n",
    "\n",
    "print(tf.__version__)\n",
    "\n",
    "import nltk\n",
    "nltk.download('punkt')\n",
    "from nltk.corpus import stopwords\n",
    "nltk.download('stopwords')\n",
    "stopWords = stopwords.words('english')\n",
    "from nltk import word_tokenize\n",
    "stemmer = nltk.stem.SnowballStemmer('english')"
   ]
  },
  {
   "cell_type": "code",
   "execution_count": 3,
   "metadata": {},
   "outputs": [],
   "source": [
    "#MAPPING SENTENCES TO LIBRARY\n",
    "import json\n",
    "\n",
    "#declare testLabels as an empty list\n",
    "testLabels = []\n",
    "\n",
    "#Keeping track of used sentences\n",
    "used = []\n",
    "\n",
    "#Keeping track of used sentences separately\n",
    "security = []\n",
    "nosecurity = []\n",
    "\n",
    "#this is the smallest number of unique non-functional requirements of a single class\n",
    "LIMIT = 244\n",
    "\n",
    "with open(\"Consolidated_data.txt\",\"r\") as f:\n",
    "    \n",
    "    #Go line by line in original data file\n",
    "    for line in f:\n",
    "        #find where class begins\n",
    "        front = line.find(\"\\\"class\\\":\\\"\")\n",
    "        #find where class ends (where sentence begins)\n",
    "        end = line.find(\"\\\",\\\"sentence\\\":\\\"\")\n",
    "        #substring line based on front and end above\n",
    "        reqClass = (line[(front+9):end]).lower()\n",
    "\n",
    "        #sentence\n",
    "        temp = line.find(\"\\\"sentence\\\":\\\"\")\n",
    "        #Cut out the sentence part\n",
    "        sentence = (line[(temp+12):-4]).lower()\n",
    "        #Remove all symbols, numbers, and spaces. Split into list of words\n",
    "        sentence = sentence.translate(None, '.,-\\\":;~!@#$%^&?[]{}<>`1234567890\\\\*()').strip().split(\" \")\n",
    "        #Unicode each word because stemmer likes it that way\n",
    "        sentence = [unicode(i, 'utf-8') for i in sentence]\n",
    "        #Stem each word separately\n",
    "        sentence = [stemmer.stem(i) for i in sentence]\n",
    "        #Check word by word, if the word is not in stop words and not a single letter, join\n",
    "        sentence = ' '.join(word for word in sentence if word not in stopWords and len(word) > 1)\n",
    "        \n",
    "        if sentence in used:\n",
    "            continue\n",
    "        else:\n",
    "            if \"privacy\" in reqClass and (len(security) < LIMIT):\n",
    "                used.append(sentence)\n",
    "                security.append(sentence)\n",
    "                testLabels.append(1)\n",
    "            elif \"privacy\" not in reqClass and (len(nosecurity) < LIMIT):\n",
    "                used.append(sentence)\n",
    "                nosecurity.append(sentence)\n",
    "                testLabels.append(0)"
   ]
  },
  {
   "cell_type": "code",
   "execution_count": 4,
   "metadata": {},
   "outputs": [
    {
     "name": "stdout",
     "output_type": "stream",
     "text": [
      "244\n",
      "244\n",
      "488\n"
     ]
    }
   ],
   "source": [
    "#Must all be balanced for valid results.\n",
    "#Commented out the total number of sentences in the document.\n",
    "print len(security) #270\n",
    "print len(nosecurity)\n",
    "print len(used) #540"
   ]
  },
  {
   "cell_type": "code",
   "execution_count": 5,
   "metadata": {},
   "outputs": [],
   "source": [
    "import csv\n",
    "import requests\n",
    "\n",
    "S = requests.Session()\n",
    "URL = \"https://en.wikipedia.org/w/api.php\"\n",
    "\n",
    "def parseList(*titleList):\n",
    "    \n",
    "    train = []\n",
    "    \n",
    "    for title in titleList:\n",
    "        PARAMS = {\n",
    "        'action': \"parse\",\n",
    "        'page': title,\n",
    "        'prop': 'wikitext',\n",
    "        'format': \"json\"\n",
    "        }\n",
    "        \n",
    "        entries = []\n",
    "        pageContent = []\n",
    "        \n",
    "        res = S.get(url=URL, params=PARAMS)\n",
    "        data = res.json()\n",
    "        wikitext = data['parse']['wikitext']['*']\n",
    "        lines = wikitext.split('|-')\n",
    "        b = \",-\\\":;~!@#$%^&?[]{}<>`1234567890\\\\*()\\'/|=\"\n",
    "        for char in b:\n",
    "            lines[0] = lines[0].replace(char, \"\")\n",
    "\n",
    "        while lines[0].find(\"\\n\") is not (None or -1):\n",
    "            current = lines[0].find(\"\\n\")\n",
    "            entries.append(lines[0][:current+1])\n",
    "            lines[0] = lines[0][current+1:]\n",
    "\n",
    "        for line in entries:\n",
    "            index = entries.index(line)\n",
    "\n",
    "            #removing words that do not carry any meaning (longer than 16 chars)\n",
    "            for key in line.split(\" \"):\n",
    "                if len(key) > 16:\n",
    "                    line = line.replace(key, \"\")\n",
    "\n",
    "            #if line is not empty and wordcount > 20, line will be used for training\n",
    "            if line != '\\n' and (len(line.split(\" \")) > 20):\n",
    "                pageContent.append(line.strip())\n",
    "\n",
    "        for paragraph in pageContent:\n",
    "            for sentence in paragraph.split(\".\"):\n",
    "                sentence = sentence.strip().split(\" \")\n",
    "                if len(sentence) < 10:\n",
    "                    continue\n",
    "                #Stem each word separately\n",
    "                sentence = [stemmer.stem(i) for i in sentence]\n",
    "                #Check word by word, if the word is not in stop words and not a single letter, join\n",
    "                sentence = ' '.join(word for word in sentence if word not in stopWords and len(word) > 1)\n",
    "                train.append(sentence)\n",
    "        del entries[:]\n",
    "        del pageContent[:]\n",
    "        print title, \" parsed successfully\"\n",
    "    return train"
   ]
  },
  {
   "cell_type": "code",
   "execution_count": 6,
   "metadata": {},
   "outputs": [],
   "source": [
    "def makeLabels(trainData, labelNumber):\n",
    "    #generating labels list that matches pageContent list in length\n",
    "    labels = []\n",
    "    for x in range(0, len(trainData)):\n",
    "        labels.append(labelNumber)\n",
    "    print(\"Labels made successfully\")\n",
    "    return labels"
   ]
  },
  {
   "cell_type": "code",
   "execution_count": 7,
   "metadata": {},
   "outputs": [],
   "source": [
    "#Two lists with names of all Wikipedia pages to be parsed and used for training\n",
    "securityList = [\n",
    "    \"Privacy\",\n",
    "    \"Surveillance\",\n",
    "    \"Confidentiality\",\n",
    "    \"Privacy law\", #this one increases accuracy drastically\n",
    "    \"Privacy policy\",\n",
    "    \"Expectation of privacy\",\n",
    "    \"Personally identifiable information\"\n",
    "]\n",
    "\n",
    "notSecurityList = [\n",
    "    #\"Information security\",\n",
    "    #\"Mobile security\",\n",
    "    \"Computer security\",\n",
    "    #\"Medical diagnosis\",\n",
    "    #\"Hospital\",\n",
    "    \"Medicine\",\n",
    "    #\"Medication\",\n",
    "    #\"Database administrator\",\n",
    "    \"Database design\",\n",
    "    #\"Database model\",\n",
    "    \"Relational model\",\n",
    "    \"Network administrator\",\n",
    "    \"ISO/IEC 9126\",\n",
    "    \"Email\",\n",
    "    \"Look and feel\",\n",
    "    \"Access control\",\n",
    "    \"Audit\",\n",
    "    \"Service-level agreement\",\n",
    "    \"Availability\",\n",
    "    \"Channel capacity\",\n",
    "    \"End-user license agreement\",\n",
    "    \"Robustness (computer science)\",\n",
    "    \"Software maintenance\",\n",
    "    \"Operability\",\n",
    "    \"Quality (business)\",\n",
    "    \"Usability\",\n",
    "    \"Common law\"\n",
    "]"
   ]
  },
  {
   "cell_type": "code",
   "execution_count": 8,
   "metadata": {},
   "outputs": [
    {
     "name": "stdout",
     "output_type": "stream",
     "text": [
      "Privacy  parsed successfully\n",
      "Surveillance  parsed successfully\n",
      "Confidentiality  parsed successfully\n",
      "Privacy law  parsed successfully\n",
      "Privacy policy  parsed successfully\n",
      "Expectation of privacy  parsed successfully\n",
      "Personally identifiable information  parsed successfully\n",
      "Computer security  parsed successfully\n",
      "Medicine  parsed successfully\n",
      "Database design  parsed successfully\n",
      "Relational model  parsed successfully\n",
      "Network administrator  parsed successfully\n",
      "ISO/IEC 9126  parsed successfully\n",
      "Email  parsed successfully\n",
      "Look and feel  parsed successfully\n",
      "Access control  parsed successfully\n",
      "Audit  parsed successfully\n",
      "Service-level agreement  parsed successfully\n",
      "Availability  parsed successfully\n",
      "Channel capacity  parsed successfully\n",
      "End-user license agreement  parsed successfully\n",
      "Robustness (computer science)  parsed successfully\n",
      "Software maintenance  parsed successfully\n",
      "Operability  parsed successfully\n",
      "Quality (business)  parsed successfully\n",
      "Usability  parsed successfully\n",
      "Common law  parsed successfully\n",
      "\n",
      "Security length:  1472\n",
      "Not Security length:  2451\n",
      "Labels made successfully\n",
      "Labels made successfully\n",
      "\n",
      "Test set length:  488\n",
      "Test labels set length:  488\n",
      "\n",
      "Validation set length:  588\n",
      "Validation labels set length:  588\n",
      "\n",
      "Train set length:  2356\n",
      "Train labels set length:  2356\n"
     ]
    }
   ],
   "source": [
    "#Parse two wikipedia pages\n",
    "security = parseList(*securityList)\n",
    "notSecurity = parseList(*notSecurityList)\n",
    "print \"\\nSecurity length: \", len(security)\n",
    "print \"Not Security length: \", len(notSecurity)\n",
    "\n",
    "#Make entries be same length, pick minimum of two lengths\n",
    "deleteAfter = min(len(security), len(notSecurity))\n",
    "\n",
    "#If min length is less than 100 sentences, test is invalid\n",
    "if deleteAfter < 100:\n",
    "    print(\"!!!TEST IS INVALID!!!\")\n",
    "else:\n",
    "    del security[deleteAfter:]\n",
    "    del notSecurity[deleteAfter:]\n",
    "\n",
    "if(len(security) != len(notSecurity) and (len(security) != len(set(security)) or len(notSecurity) != len(set(notSecurity)))):\n",
    "    print(\"!!!TEST IS INVALID!!!\")\n",
    "else:\n",
    "    #Generate labels\n",
    "    trainLabels = makeLabels(security, 1)\n",
    "    trainLabels += makeLabels(notSecurity, 0)\n",
    "\n",
    "    #Collapse into single list\n",
    "    trainData = security + notSecurity\n",
    "\n",
    "    #Shuffle two lists, save the order\n",
    "    trainData, trainLabels = shuffle(trainData, trainLabels)\n",
    "    used, testLabels = shuffle(used, testLabels)\n",
    "\n",
    "    #Get validation data\n",
    "    validationToTrainRatio = 0.2\n",
    "    validationSize = int(validationToTrainRatio * len(trainData))\n",
    "    validationData = trainData[:validationSize]\n",
    "    validationLabels = trainLabels[:validationSize]\n",
    "    trainData = trainData[validationSize:]\n",
    "    trainLabels = trainLabels[validationSize:]\n",
    "\n",
    "    \n",
    "    #Sanity check\n",
    "    print \"\\nTest set length: \", len(used)\n",
    "    print \"Test labels set length: \", len(testLabels)\n",
    "    print \"\\nValidation set length: \", len(validationData)\n",
    "    print \"Validation labels set length: \", len(validationLabels)\n",
    "    print \"\\nTrain set length: \", len(trainData)\n",
    "    print \"Train labels set length: \", len(trainLabels)"
   ]
  },
  {
   "cell_type": "code",
   "execution_count": 9,
   "metadata": {},
   "outputs": [],
   "source": [
    "def ngram_vectorize(train_texts, train_labels, val_texts, test_texts):\n",
    "    \n",
    "    # Create keyword arguments to pass to the 'tf-idf' vectorizer.\n",
    "    kwargs = {\n",
    "            'ngram_range': (1,3),  # Use 1-grams + 2-grams + 3-grams.\n",
    "            'dtype': 'int32',\n",
    "            'strip_accents': 'unicode',\n",
    "            'decode_error': 'replace',\n",
    "            'analyzer': 'word',  # Split text into word tokens.\n",
    "            'min_df': 2, #Words that appear less than this value do not contribute\n",
    "    }\n",
    "    vectorizer = TfidfVectorizer(**kwargs)\n",
    "\n",
    "    # Learn vocabulary from training texts and vectorize training texts.\n",
    "    x_train = vectorizer.fit_transform(train_texts)\n",
    "\n",
    "    # Vectorize validation texts.\n",
    "    x_val = vectorizer.transform(val_texts)\n",
    "    \n",
    "    # Vectorize test texts.\n",
    "    x_test = vectorizer.transform(test_texts)\n",
    "\n",
    "    # Select top 'k' of the vectorized features.\n",
    "    selector = SelectKBest(f_classif, k=min(20000, x_train.shape[1]))\n",
    "    selector.fit(x_train, train_labels)\n",
    "    x_train = selector.transform(x_train).astype('float32')\n",
    "    x_val = selector.transform(x_val).astype('float32')\n",
    "    x_test = selector.transform(x_test).astype('float32')\n",
    "    return x_train, x_val, x_test"
   ]
  },
  {
   "cell_type": "code",
   "execution_count": 10,
   "metadata": {
    "scrolled": false
   },
   "outputs": [
    {
     "name": "stderr",
     "output_type": "stream",
     "text": [
      "/usr/local/lib/python2.7/dist-packages/sklearn/feature_extraction/text.py:1547: UserWarning: Only (<type 'numpy.float64'>, <type 'numpy.float32'>, <type 'numpy.float16'>) 'dtype' should be used. int32 'dtype' will be converted to np.float64.\n",
      "  UserWarning)\n"
     ]
    }
   ],
   "source": [
    "trainData, valData, testData = ngram_vectorize(trainData, trainLabels, validationData, used)"
   ]
  },
  {
   "cell_type": "code",
   "execution_count": 11,
   "metadata": {},
   "outputs": [],
   "source": [
    "#Constructing the model method\n",
    "def mlp_model(layers, units, dropout_rate, input_shape, num_classes):\n",
    "    model = keras.Sequential()\n",
    "    model.add(keras.layers.Dropout(rate=dropout_rate, input_shape=input_shape))\n",
    "    for _ in range(layers-1):\n",
    "        model.add(keras.layers.Dense(units=units, activation=tf.nn.relu))\n",
    "        model.add(keras.layers.Dropout(rate=dropout_rate))\n",
    "\n",
    "    model.add(keras.layers.Dense(units=num_classes, activation=tf.nn.sigmoid))\n",
    "    return model"
   ]
  },
  {
   "cell_type": "code",
   "execution_count": 12,
   "metadata": {},
   "outputs": [
    {
     "name": "stdout",
     "output_type": "stream",
     "text": [
      "_________________________________________________________________\n",
      "Layer (type)                 Output Shape              Param #   \n",
      "=================================================================\n",
      "dropout (Dropout)            (None, 6257)              0         \n",
      "_________________________________________________________________\n",
      "dense (Dense)                (None, 32)                200256    \n",
      "_________________________________________________________________\n",
      "dropout_1 (Dropout)          (None, 32)                0         \n",
      "_________________________________________________________________\n",
      "dense_1 (Dense)              (None, 1)                 33        \n",
      "=================================================================\n",
      "Total params: 200,289\n",
      "Trainable params: 200,289\n",
      "Non-trainable params: 0\n",
      "_________________________________________________________________\n"
     ]
    }
   ],
   "source": [
    "#For parameters refer to the upper cell\n",
    "model = mlp_model(2, 32, 0.3, trainData.shape[1:], 1)\n",
    "model.summary()"
   ]
  },
  {
   "cell_type": "code",
   "execution_count": 13,
   "metadata": {},
   "outputs": [],
   "source": [
    "#Learning rate could be further decreased for additional accuracy\n",
    "model.compile(optimizer=tf.train.AdamOptimizer(learning_rate=0.001),\n",
    "              loss='binary_crossentropy',\n",
    "              metrics=['accuracy'])"
   ]
  },
  {
   "cell_type": "code",
   "execution_count": 14,
   "metadata": {
    "scrolled": true
   },
   "outputs": [
    {
     "name": "stdout",
     "output_type": "stream",
     "text": [
      "Train on 2356 samples, validate on 588 samples\n",
      "Epoch 1/100\n",
      " - 1s - loss: 0.6890 - acc: 0.6129 - val_loss: 0.6797 - val_acc: 0.8554\n",
      "Epoch 2/100\n",
      " - 0s - loss: 0.6695 - acc: 0.8463 - val_loss: 0.6572 - val_acc: 0.8980\n",
      "Epoch 3/100\n",
      " - 0s - loss: 0.6391 - acc: 0.9070 - val_loss: 0.6267 - val_acc: 0.9014\n",
      "Epoch 4/100\n",
      " - 0s - loss: 0.6046 - acc: 0.9300 - val_loss: 0.5947 - val_acc: 0.9116\n",
      "Epoch 5/100\n",
      " - 0s - loss: 0.5680 - acc: 0.9346 - val_loss: 0.5628 - val_acc: 0.9065\n",
      "Epoch 6/100\n",
      " - 0s - loss: 0.5295 - acc: 0.9427 - val_loss: 0.5319 - val_acc: 0.9048\n",
      "Epoch 7/100\n",
      " - 0s - loss: 0.4903 - acc: 0.9512 - val_loss: 0.5009 - val_acc: 0.9099\n",
      "Epoch 8/100\n",
      " - 0s - loss: 0.4578 - acc: 0.9512 - val_loss: 0.4712 - val_acc: 0.9116\n",
      "Epoch 9/100\n",
      " - 0s - loss: 0.4239 - acc: 0.9537 - val_loss: 0.4437 - val_acc: 0.9116\n",
      "Epoch 10/100\n",
      " - 0s - loss: 0.3880 - acc: 0.9584 - val_loss: 0.4180 - val_acc: 0.9133\n",
      "Epoch 11/100\n",
      " - 0s - loss: 0.3629 - acc: 0.9597 - val_loss: 0.3948 - val_acc: 0.9133\n",
      "Epoch 12/100\n",
      " - 0s - loss: 0.3388 - acc: 0.9593 - val_loss: 0.3736 - val_acc: 0.9116\n",
      "Epoch 13/100\n",
      " - 0s - loss: 0.3122 - acc: 0.9643 - val_loss: 0.3541 - val_acc: 0.9133\n",
      "Epoch 14/100\n",
      " - 0s - loss: 0.2907 - acc: 0.9656 - val_loss: 0.3366 - val_acc: 0.9150\n",
      "Epoch 15/100\n",
      " - 0s - loss: 0.2729 - acc: 0.9673 - val_loss: 0.3215 - val_acc: 0.9133\n",
      "Epoch 16/100\n",
      " - 0s - loss: 0.2531 - acc: 0.9652 - val_loss: 0.3078 - val_acc: 0.9150\n",
      "Epoch 17/100\n",
      " - 0s - loss: 0.2339 - acc: 0.9699 - val_loss: 0.2949 - val_acc: 0.9150\n",
      "Epoch 18/100\n",
      " - 0s - loss: 0.2235 - acc: 0.9707 - val_loss: 0.2834 - val_acc: 0.9167\n",
      "Epoch 19/100\n",
      " - 0s - loss: 0.2054 - acc: 0.9720 - val_loss: 0.2733 - val_acc: 0.9184\n",
      "Epoch 20/100\n",
      " - 0s - loss: 0.1961 - acc: 0.9750 - val_loss: 0.2639 - val_acc: 0.9184\n",
      "Epoch 21/100\n",
      " - 0s - loss: 0.1863 - acc: 0.9775 - val_loss: 0.2556 - val_acc: 0.9184\n",
      "Epoch 22/100\n",
      " - 0s - loss: 0.1752 - acc: 0.9796 - val_loss: 0.2485 - val_acc: 0.9184\n",
      "Epoch 23/100\n",
      " - 0s - loss: 0.1665 - acc: 0.9805 - val_loss: 0.2418 - val_acc: 0.9201\n",
      "Epoch 24/100\n",
      " - 0s - loss: 0.1559 - acc: 0.9779 - val_loss: 0.2361 - val_acc: 0.9184\n",
      "Epoch 25/100\n",
      " - 0s - loss: 0.1484 - acc: 0.9801 - val_loss: 0.2308 - val_acc: 0.9167\n",
      "Epoch 26/100\n",
      " - 0s - loss: 0.1427 - acc: 0.9813 - val_loss: 0.2256 - val_acc: 0.9167\n",
      "Epoch 27/100\n",
      " - 0s - loss: 0.1419 - acc: 0.9758 - val_loss: 0.2209 - val_acc: 0.9184\n",
      "Epoch 28/100\n",
      " - 0s - loss: 0.1331 - acc: 0.9788 - val_loss: 0.2170 - val_acc: 0.9184\n",
      "Epoch 29/100\n",
      " - 0s - loss: 0.1258 - acc: 0.9813 - val_loss: 0.2135 - val_acc: 0.9167\n",
      "Epoch 30/100\n",
      " - 0s - loss: 0.1213 - acc: 0.9826 - val_loss: 0.2103 - val_acc: 0.9184\n",
      "Epoch 31/100\n",
      " - 0s - loss: 0.1158 - acc: 0.9817 - val_loss: 0.2074 - val_acc: 0.9184\n",
      "Epoch 32/100\n",
      " - 0s - loss: 0.1103 - acc: 0.9830 - val_loss: 0.2050 - val_acc: 0.9167\n",
      "Epoch 33/100\n",
      " - 0s - loss: 0.1083 - acc: 0.9830 - val_loss: 0.2028 - val_acc: 0.9150\n",
      "Epoch 34/100\n",
      " - 0s - loss: 0.1069 - acc: 0.9826 - val_loss: 0.2004 - val_acc: 0.9167\n",
      "Epoch 35/100\n",
      " - 0s - loss: 0.0999 - acc: 0.9877 - val_loss: 0.1985 - val_acc: 0.9167\n",
      "Epoch 36/100\n",
      " - 0s - loss: 0.1039 - acc: 0.9830 - val_loss: 0.1969 - val_acc: 0.9167\n",
      "Epoch 37/100\n",
      " - 0s - loss: 0.0952 - acc: 0.9860 - val_loss: 0.1952 - val_acc: 0.9150\n",
      "Epoch 38/100\n",
      " - 0s - loss: 0.0908 - acc: 0.9864 - val_loss: 0.1936 - val_acc: 0.9150\n",
      "Epoch 39/100\n",
      " - 0s - loss: 0.0925 - acc: 0.9856 - val_loss: 0.1921 - val_acc: 0.9167\n",
      "Epoch 40/100\n",
      " - 0s - loss: 0.0884 - acc: 0.9856 - val_loss: 0.1913 - val_acc: 0.9167\n",
      "Epoch 41/100\n",
      " - 0s - loss: 0.0843 - acc: 0.9847 - val_loss: 0.1905 - val_acc: 0.9150\n",
      "Epoch 42/100\n",
      " - 0s - loss: 0.0803 - acc: 0.9877 - val_loss: 0.1897 - val_acc: 0.9133\n",
      "Epoch 43/100\n",
      " - 0s - loss: 0.0816 - acc: 0.9856 - val_loss: 0.1889 - val_acc: 0.9133\n",
      "Epoch 44/100\n",
      " - 1s - loss: 0.0760 - acc: 0.9890 - val_loss: 0.1883 - val_acc: 0.9133\n",
      "Epoch 45/100\n",
      " - 0s - loss: 0.0754 - acc: 0.9873 - val_loss: 0.1877 - val_acc: 0.9150\n",
      "Epoch 46/100\n",
      " - 0s - loss: 0.0731 - acc: 0.9881 - val_loss: 0.1871 - val_acc: 0.9184\n",
      "Epoch 47/100\n",
      " - 0s - loss: 0.0746 - acc: 0.9885 - val_loss: 0.1861 - val_acc: 0.9184\n",
      "Epoch 48/100\n",
      " - 0s - loss: 0.0666 - acc: 0.9907 - val_loss: 0.1851 - val_acc: 0.9167\n",
      "Epoch 49/100\n",
      " - 0s - loss: 0.0689 - acc: 0.9911 - val_loss: 0.1842 - val_acc: 0.9167\n",
      "Epoch 50/100\n",
      " - 0s - loss: 0.0627 - acc: 0.9885 - val_loss: 0.1836 - val_acc: 0.9150\n",
      "Epoch 51/100\n",
      " - 0s - loss: 0.0629 - acc: 0.9915 - val_loss: 0.1831 - val_acc: 0.9133\n",
      "Epoch 52/100\n",
      " - 0s - loss: 0.0668 - acc: 0.9885 - val_loss: 0.1820 - val_acc: 0.9133\n",
      "Epoch 53/100\n",
      " - 0s - loss: 0.0624 - acc: 0.9911 - val_loss: 0.1810 - val_acc: 0.9167\n",
      "Epoch 54/100\n",
      " - 0s - loss: 0.0647 - acc: 0.9868 - val_loss: 0.1806 - val_acc: 0.9184\n",
      "Epoch 55/100\n",
      " - 0s - loss: 0.0580 - acc: 0.9911 - val_loss: 0.1804 - val_acc: 0.9167\n",
      "Epoch 56/100\n",
      " - 0s - loss: 0.0578 - acc: 0.9885 - val_loss: 0.1801 - val_acc: 0.9167\n",
      "Epoch 57/100\n",
      " - 0s - loss: 0.0527 - acc: 0.9949 - val_loss: 0.1799 - val_acc: 0.9167\n",
      "Epoch 58/100\n",
      " - 0s - loss: 0.0568 - acc: 0.9902 - val_loss: 0.1794 - val_acc: 0.9167\n",
      "Epoch 59/100\n",
      " - 0s - loss: 0.0531 - acc: 0.9911 - val_loss: 0.1795 - val_acc: 0.9167\n",
      "Epoch 60/100\n",
      " - 0s - loss: 0.0551 - acc: 0.9902 - val_loss: 0.1795 - val_acc: 0.9167\n"
     ]
    }
   ],
   "source": [
    "#callbacks will prevent model from running if val_loss starts to increase\n",
    "callbacks = [tf.keras.callbacks.EarlyStopping(\n",
    "        monitor='val_loss', patience=2)]\n",
    "\n",
    "history = model.fit(trainData,\n",
    "                    trainLabels,\n",
    "                    epochs=100,\n",
    "                    callbacks = callbacks,\n",
    "                    batch_size=256,\n",
    "                    validation_data=(valData, validationLabels),\n",
    "                    verbose=2)"
   ]
  },
  {
   "cell_type": "code",
   "execution_count": 15,
   "metadata": {},
   "outputs": [
    {
     "name": "stdout",
     "output_type": "stream",
     "text": [
      "488/488 [==============================] - 0s 91us/step\n",
      "[0.3888590648526051, 0.8299180327868853]\n"
     ]
    }
   ],
   "source": [
    "#Evalueating model on the testset\n",
    "#[loss, accuracy]\n",
    "print(model.evaluate(testData, testLabels))"
   ]
  },
  {
   "cell_type": "code",
   "execution_count": 16,
   "metadata": {},
   "outputs": [
    {
     "data": {
      "text/plain": [
       "['acc', 'loss', 'val_acc', 'val_loss']"
      ]
     },
     "execution_count": 16,
     "metadata": {},
     "output_type": "execute_result"
    }
   ],
   "source": [
    "#The rest of the notebook helps vidualize losses and accuracies by ploting two separate grophs\n",
    "history_dict = history.history\n",
    "history_dict.keys()"
   ]
  },
  {
   "cell_type": "code",
   "execution_count": 17,
   "metadata": {
    "scrolled": true
   },
   "outputs": [
    {
     "data": {
      "image/png": "[encoded data removed]",
      "text/plain": [
       "<Figure size 432x288 with 1 Axes>"
      ]
     },
     "metadata": {
      "needs_background": "light"
     },
     "output_type": "display_data"
    }
   ],
   "source": [
    "acc = history.history['acc']\n",
    "val_acc = history.history['val_acc']\n",
    "loss = history.history['loss']\n",
    "val_loss = history.history['val_loss']\n",
    "\n",
    "epochs = range(1, len(acc) + 1)\n",
    "\n",
    "# \"bo\" is for \"blue dot\"\n",
    "plt.plot(epochs, loss, 'bo', label='Training loss')\n",
    "# b is for \"solid blue line\"\n",
    "plt.plot(epochs, val_loss, 'b', label='Validation loss')\n",
    "plt.title('Training and validation loss')\n",
    "plt.xlabel('Epochs')\n",
    "plt.ylabel('Loss')\n",
    "plt.legend()\n",
    "\n",
    "plt.show()"
   ]
  },
  {
   "cell_type": "code",
   "execution_count": 18,
   "metadata": {},
   "outputs": [
    {
     "data": {
      "image/png": "[encoded data removed]",
      "text/plain": [
       "<Figure size 432x288 with 1 Axes>"
      ]
     },
     "metadata": {
      "needs_background": "light"
     },
     "output_type": "display_data"
    }
   ],
   "source": [
    "plt.clf() #clear figure\n",
    "acc_values = history_dict['acc']\n",
    "val_acc_values = history_dict['val_acc']\n",
    "\n",
    "plt.plot(epochs, acc, 'bo', label='Training acc')\n",
    "plt.plot(epochs, val_acc, 'b', label='Validation acc')\n",
    "plt.title('Training and validation accuracy')\n",
    "plt.xlabel('Epochs')\n",
    "plt.ylabel('Accuracy')\n",
    "plt.legend()\n",
    "\n",
    "plt.show()"
   ]
  }
 ],
 "metadata": {
  "kernelspec": {
   "display_name": "Python 2",
   "language": "python",
   "name": "python2"
  },
  "language_info": {
   "codemirror_mode": {
    "name": "ipython",
    "version": 2
   },
   "file_extension": ".py",
   "mimetype": "text/x-python",
   "name": "python",
   "nbconvert_exporter": "python",
   "pygments_lexer": "ipython2",
   "version": "2.7.12"
  }
 },
 "nbformat": 4,
 "nbformat_minor": 2
}
