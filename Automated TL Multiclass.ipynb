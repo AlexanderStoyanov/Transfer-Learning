{
 "cells": [
  {
   "cell_type": "code",
   "execution_count": 1,
   "metadata": {},
   "outputs": [],
   "source": [
    "#Partially adopted from Tensorflow/docs/basic_text_classification\n",
    "#https://github.com/tensorflow/docs/blob/master/site/en/tutorials/keras/basic_text_classification.ipynb\n",
    "\n",
    "#As well as https://developers.google.com/machine-learning/guides/text-classification/"
   ]
  },
  {
   "cell_type": "code",
   "execution_count": 2,
   "metadata": {},
   "outputs": [
    {
     "name": "stderr",
     "output_type": "stream",
     "text": [
      "[nltk_data] Downloading package punkt to /root/nltk_data...\n",
      "[nltk_data]   Package punkt is already up-to-date!\n",
      "[nltk_data] Downloading package stopwords to /root/nltk_data...\n",
      "[nltk_data]   Package stopwords is already up-to-date!\n"
     ]
    }
   ],
   "source": [
    "import tensorflow as tf\n",
    "from tensorflow import keras\n",
    "\n",
    "from sklearn.utils import shuffle\n",
    "from sklearn.feature_extraction.text import TfidfVectorizer\n",
    "from sklearn.feature_selection import SelectKBest\n",
    "from sklearn.feature_selection import f_classif\n",
    "\n",
    "import numpy as np\n",
    "import pandas as pd\n",
    "\n",
    "from data import Data, TestData, WikiData"
   ]
  },
  {
   "cell_type": "code",
   "execution_count": 3,
   "metadata": {},
   "outputs": [
    {
     "name": "stdout",
     "output_type": "stream",
     "text": [
      "Labels made successfully\n",
      "Labels made successfully\n",
      "Labels made successfully\n"
     ]
    }
   ],
   "source": [
    "security = []\n",
    "usability = []\n",
    "operability = []\n",
    "with open('Data/NFR.csv') as f:\n",
    "    # Create two instances of data: fake (noise) and real (data)\n",
    "    for sentence in f:\n",
    "        cl = sentence[:sentence.find(',')]\n",
    "        sentence = sentence[sentence.find(',')+1:]\n",
    "        if cl == 'Security':\n",
    "            security.append(sentence)\n",
    "        elif cl == 'Usability':\n",
    "            usability.append(sentence)\n",
    "        elif cl == 'Operability':\n",
    "            operability.append(sentence)\n",
    "\n",
    "# Create two instances of data from fake and real\n",
    "test_0 = TestData(security, '0')\n",
    "test_1 = TestData(usability, '1')\n",
    "test_2 = TestData(operability, '2')\n",
    "\n",
    "# Balance the data based on min length of all lists\n",
    "deleteAfter = min(len(test_0.data), len(test_1.data), len(test_2.data))\n",
    "del test_0.data[deleteAfter:]\n",
    "del test_1.data[deleteAfter:]\n",
    "del test_2.data[deleteAfter:]\n",
    "del test_0.labels[deleteAfter:]\n",
    "del test_1.labels[deleteAfter:]\n",
    "del test_2.labels[deleteAfter:]\n",
    "\n",
    "# Test that the data is balanced\n",
    "assert len(test_0.data) == len(test_1.data), 'Lengths of test datas are not equal'\n",
    "assert len(test_0.labels) == len(test_1.labels), 'Lengths of test labels are not equal'\n",
    "assert len(test_0.data) == len(test_2.data), 'Lengths of test datas are not equal'\n",
    "assert len(test_1.labels) == len(test_2.labels), 'Lengths of test labels are not equal'\n",
    "\n",
    "assert len(test_0.data) == len(test_0.labels), 'Lengths of test data and labels do not match'\n",
    "assert len(test_1.data) == len(test_1.labels), 'Lengths of test data and labels do not match'\n",
    "assert len(test_2.data) == len(test_2.labels), 'Lengths of test data and labels do not match'"
   ]
  },
  {
   "cell_type": "code",
   "execution_count": 4,
   "metadata": {},
   "outputs": [
    {
     "name": "stdout",
     "output_type": "stream",
     "text": [
      "Article names in the security list: 200\n",
      "Labels made successfully\n",
      "Article names in the usability list: 54\n",
      "Labels made successfully\n",
      "Article names in the operability list: 102\n",
      "Labels made successfully\n"
     ]
    }
   ],
   "source": [
    "train_0 = WikiData(articlesFile='Data/enwiki-latest-all-titles-in-ns0', keyword='security', size=200, labelValue='0')\n",
    "train_1 = WikiData(articlesFile='Data/enwiki-latest-all-titles-in-ns0', keyword='usability', size=100, labelValue='1')\n",
    "train_2 = WikiData(articlesFile='Data/enwiki-latest-all-titles-in-ns0', keyword='operability', size=200, labelValue='2')"
   ]
  },
  {
   "cell_type": "code",
   "execution_count": 5,
   "metadata": {},
   "outputs": [
    {
     "name": "stdout",
     "output_type": "stream",
     "text": [
      "\n",
      "Test set length: 459\n",
      "Test labels set length: 459\n",
      "\n",
      "Validation set length: 468\n",
      "Validation labels set length: 468\n",
      "\n",
      "Train set length: 8904\n",
      "Train labels set length: 8904\n"
     ]
    }
   ],
   "source": [
    "# Balance the data based on min length of both lists\n",
    "deleteAfter = min(len(train_0.data), len(train_1.data), len(train_2.data))\n",
    "\n",
    "# If min length is less than 100 sentences, test is invalid\n",
    "assert deleteAfter > 100, 'Train set is too small'\n",
    "\n",
    "del train_0.data[deleteAfter:]\n",
    "del train_1.data[deleteAfter:]\n",
    "del train_2.data[deleteAfter:]\n",
    "del train_0.labels[deleteAfter:]\n",
    "del train_1.labels[deleteAfter:]\n",
    "del train_2.labels[deleteAfter:]\n",
    "\n",
    "\n",
    "# Test that the data is balanced\n",
    "assert len(train_0.data) == len(train_1.data), 'Lengths of train datas are not equal'\n",
    "assert len(train_1.data) == len(train_2.data), 'Lengths of train datas are not equal'\n",
    "\n",
    "assert len(train_0.labels) == len(train_1.labels), 'Lengths of train labels are not equal'\n",
    "assert len(train_1.labels) == len(train_2.labels), 'Lengths of train labels are not equal'\n",
    "\n",
    "assert len(train_0.data) == len(train_0.labels), 'Lengths of train data and labels do not match'\n",
    "assert len(train_1.data) == len(train_1.labels), 'Lengths of train data and labels do not match'\n",
    "assert len(train_2.data) == len(train_2.labels), 'Lengths of train data and labels do not match'\n",
    "\n",
    "#Collapse into single list\n",
    "trainData = train_0.data + train_1.data + train_2.data\n",
    "trainLabels = train_0.labels + train_1.labels + train_2.labels\n",
    "x_test = test_0.data + test_1.data + test_2.data\n",
    "y_test = test_0.labels + test_1.labels + test_2.labels\n",
    "\n",
    "#Shuffle two lists, save the order\n",
    "trainData, trainLabels = shuffle(trainData, trainLabels)\n",
    "x_test, y_test = shuffle(x_test, y_test)\n",
    "\n",
    "#Get validation data\n",
    "validationToTrainRatio = 0.05\n",
    "validationSize = int(validationToTrainRatio * len(trainData))\n",
    "validationData = trainData[:validationSize]\n",
    "validationLabels = trainLabels[:validationSize]\n",
    "trainData = trainData[validationSize:]\n",
    "trainLabels = trainLabels[validationSize:]\n",
    "\n",
    "\n",
    "print(\"\\nTest set length: %d\" % len(x_test))\n",
    "print(\"Test labels set length: %d\" % len(y_test))\n",
    "print(\"\\nValidation set length: %d\" % len(validationData))\n",
    "print(\"Validation labels set length: %d\" % len(validationLabels))\n",
    "print(\"\\nTrain set length: %d\" % len(trainData))\n",
    "print(\"Train labels set length: %d\" % len(trainLabels))"
   ]
  },
  {
   "cell_type": "code",
   "execution_count": 6,
   "metadata": {},
   "outputs": [],
   "source": [
    "# Vectorizing train, validation, and test data\n",
    "trainData = train_0.ngram_vectorize(data=trainData, labels=trainLabels)\n",
    "\n",
    "validationData = train_0.ngram_vectorize(\n",
    "    data=validationData,\n",
    "    vectorizer=train_0.vectorizer, \n",
    "    selector=train_0.selector)\n",
    "\n",
    "x_test = train_0.ngram_vectorize(\n",
    "    data=x_test,\n",
    "    vectorizer=train_0.vectorizer, \n",
    "    selector=train_0.selector)"
   ]
  },
  {
   "cell_type": "code",
   "execution_count": 7,
   "metadata": {},
   "outputs": [],
   "source": [
    "# Binary classifier (model) construction method\n",
    "def mlp_model(layers, units, dropout_rate, input_shape, num_classes):\n",
    "    model = keras.Sequential()\n",
    "    model.add(keras.layers.Dropout(rate=dropout_rate, input_shape=input_shape))\n",
    "    for _ in range(layers-1):\n",
    "        model.add(keras.layers.Dense(units=units, activation=tf.nn.relu))\n",
    "        model.add(keras.layers.Dropout(rate=dropout_rate))\n",
    "\n",
    "    model.add(keras.layers.Dense(units=16, activation=tf.nn.relu))\n",
    "    model.add(keras.layers.Dropout(rate=dropout_rate))\n",
    "    model.add(keras.layers.Dense(units=num_classes, activation=tf.nn.sigmoid))\n",
    "    return model"
   ]
  },
  {
   "cell_type": "code",
   "execution_count": 8,
   "metadata": {},
   "outputs": [
    {
     "name": "stdout",
     "output_type": "stream",
     "text": [
      "WARNING:tensorflow:From /usr/local/lib/python3.5/dist-packages/tensorflow/python/keras/layers/core.py:143: calling dropout (from tensorflow.python.ops.nn_ops) with keep_prob is deprecated and will be removed in a future version.\n",
      "Instructions for updating:\n",
      "Please use `rate` instead of `keep_prob`. Rate should be set to `rate = 1 - keep_prob`.\n",
      "WARNING:tensorflow:From /usr/local/lib/python3.5/dist-packages/tensorflow/python/ops/control_flow_ops.py:423: colocate_with (from tensorflow.python.framework.ops) is deprecated and will be removed in a future version.\n",
      "Instructions for updating:\n",
      "Colocations handled automatically by placer.\n",
      "_________________________________________________________________\n",
      "Layer (type)                 Output Shape              Param #   \n",
      "=================================================================\n",
      "dropout (Dropout)            (None, 12639)             0         \n",
      "_________________________________________________________________\n",
      "dense (Dense)                (None, 32)                404480    \n",
      "_________________________________________________________________\n",
      "dropout_1 (Dropout)          (None, 32)                0         \n",
      "_________________________________________________________________\n",
      "dense_1 (Dense)              (None, 16)                528       \n",
      "_________________________________________________________________\n",
      "dropout_2 (Dropout)          (None, 16)                0         \n",
      "_________________________________________________________________\n",
      "dense_2 (Dense)              (None, 3)                 51        \n",
      "=================================================================\n",
      "Total params: 405,059\n",
      "Trainable params: 405,059\n",
      "Non-trainable params: 0\n",
      "_________________________________________________________________\n"
     ]
    }
   ],
   "source": [
    "#For parameters refer to the upper cell\n",
    "model = mlp_model(2, 32, 0.3, trainData.shape[1:], 3)\n",
    "model.summary()"
   ]
  },
  {
   "cell_type": "code",
   "execution_count": 9,
   "metadata": {},
   "outputs": [],
   "source": [
    "#Learning rate could be further decreased for additional accuracy\n",
    "model.compile(optimizer=tf.train.AdamOptimizer(learning_rate=0.001),\n",
    "              loss='sparse_categorical_crossentropy',\n",
    "              metrics=['accuracy'])"
   ]
  },
  {
   "cell_type": "code",
   "execution_count": 10,
   "metadata": {
    "scrolled": true
   },
   "outputs": [
    {
     "name": "stdout",
     "output_type": "stream",
     "text": [
      "Train on 8904 samples, validate on 468 samples\n",
      "Epoch 1/30\n",
      " - 4s - loss: 1.0970 - acc: 0.4203 - val_loss: 1.0929 - val_acc: 0.6859\n",
      "Epoch 2/30\n",
      " - 4s - loss: 1.0876 - acc: 0.6016 - val_loss: 1.0775 - val_acc: 0.8077\n",
      "Epoch 3/30\n",
      " - 4s - loss: 1.0695 - acc: 0.6928 - val_loss: 1.0536 - val_acc: 0.8590\n",
      "Epoch 4/30\n",
      " - 4s - loss: 1.0429 - acc: 0.7590 - val_loss: 1.0221 - val_acc: 0.8953\n",
      "Epoch 5/30\n",
      " - 4s - loss: 1.0094 - acc: 0.7899 - val_loss: 0.9826 - val_acc: 0.8953\n",
      "Epoch 6/30\n",
      " - 4s - loss: 0.9693 - acc: 0.8106 - val_loss: 0.9352 - val_acc: 0.8974\n",
      "Epoch 7/30\n",
      " - 4s - loss: 0.9220 - acc: 0.8241 - val_loss: 0.8807 - val_acc: 0.9017\n",
      "Epoch 8/30\n",
      " - 4s - loss: 0.8630 - acc: 0.8402 - val_loss: 0.8184 - val_acc: 0.9081\n",
      "Epoch 9/30\n",
      " - 4s - loss: 0.7995 - acc: 0.8553 - val_loss: 0.7500 - val_acc: 0.9038\n",
      "Epoch 10/30\n",
      " - 4s - loss: 0.7350 - acc: 0.8513 - val_loss: 0.6765 - val_acc: 0.9081\n",
      "Epoch 11/30\n",
      " - 4s - loss: 0.6697 - acc: 0.8583 - val_loss: 0.6034 - val_acc: 0.9103\n",
      "Epoch 12/30\n",
      " - 4s - loss: 0.6081 - acc: 0.8624 - val_loss: 0.5328 - val_acc: 0.9103\n",
      "Epoch 13/30\n",
      " - 4s - loss: 0.5449 - acc: 0.8732 - val_loss: 0.4687 - val_acc: 0.9145\n",
      "Epoch 14/30\n",
      " - 4s - loss: 0.4916 - acc: 0.8798 - val_loss: 0.4126 - val_acc: 0.9252\n",
      "Epoch 15/30\n",
      " - 4s - loss: 0.4472 - acc: 0.8854 - val_loss: 0.3662 - val_acc: 0.9295\n",
      "Epoch 16/30\n",
      " - 4s - loss: 0.4083 - acc: 0.8941 - val_loss: 0.3278 - val_acc: 0.9316\n",
      "Epoch 17/30\n",
      " - 4s - loss: 0.3807 - acc: 0.8911 - val_loss: 0.2986 - val_acc: 0.9338\n",
      "Epoch 18/30\n",
      " - 3s - loss: 0.3571 - acc: 0.8987 - val_loss: 0.2757 - val_acc: 0.9380\n",
      "Epoch 19/30\n",
      " - 4s - loss: 0.3263 - acc: 0.9087 - val_loss: 0.2575 - val_acc: 0.9380\n",
      "Epoch 20/30\n",
      " - 4s - loss: 0.3083 - acc: 0.9136 - val_loss: 0.2428 - val_acc: 0.9402\n",
      "Epoch 21/30\n",
      " - 4s - loss: 0.2905 - acc: 0.9124 - val_loss: 0.2308 - val_acc: 0.9380\n",
      "Epoch 22/30\n",
      " - 3s - loss: 0.2740 - acc: 0.9197 - val_loss: 0.2204 - val_acc: 0.9402\n",
      "Epoch 23/30\n",
      " - 3s - loss: 0.2602 - acc: 0.9233 - val_loss: 0.2118 - val_acc: 0.9466\n",
      "Epoch 24/30\n",
      " - 4s - loss: 0.2530 - acc: 0.9243 - val_loss: 0.2054 - val_acc: 0.9466\n",
      "Epoch 25/30\n",
      " - 3s - loss: 0.2428 - acc: 0.9268 - val_loss: 0.1997 - val_acc: 0.9487\n",
      "Epoch 26/30\n",
      " - 3s - loss: 0.2284 - acc: 0.9345 - val_loss: 0.1938 - val_acc: 0.9466\n",
      "Epoch 27/30\n",
      " - 3s - loss: 0.2210 - acc: 0.9367 - val_loss: 0.1887 - val_acc: 0.9487\n",
      "Epoch 28/30\n",
      " - 3s - loss: 0.2149 - acc: 0.9362 - val_loss: 0.1841 - val_acc: 0.9487\n",
      "Epoch 29/30\n",
      " - 3s - loss: 0.2028 - acc: 0.9385 - val_loss: 0.1808 - val_acc: 0.9509\n",
      "Epoch 30/30\n",
      " - 3s - loss: 0.2012 - acc: 0.9383 - val_loss: 0.1782 - val_acc: 0.9487\n"
     ]
    }
   ],
   "source": [
    "#callbacks will prevent model from running if val_loss starts to increase\n",
    "callbacks = [tf.keras.callbacks.EarlyStopping(\n",
    "        monitor='val_loss', patience=2)]\n",
    "\n",
    "history = model.fit(trainData,\n",
    "                    trainLabels,\n",
    "                    epochs=30,\n",
    "                    callbacks = callbacks,\n",
    "                    batch_size=1024,\n",
    "                    validation_data=(validationData, validationLabels),\n",
    "                    verbose=2)"
   ]
  },
  {
   "cell_type": "code",
   "execution_count": 11,
   "metadata": {},
   "outputs": [
    {
     "name": "stdout",
     "output_type": "stream",
     "text": [
      "Accuracy: 0.5948\n",
      "\n",
      "Precision: 0.5990\n",
      "Recall: 0.5948\n",
      "F-score: 0.5949\n"
     ]
    },
    {
     "data": {
      "text/plain": [
       "array([[99, 24, 30],\n",
       "       [23, 84, 46],\n",
       "       [42, 21, 90]])"
      ]
     },
     "execution_count": 11,
     "metadata": {},
     "output_type": "execute_result"
    }
   ],
   "source": [
    "from sklearn.metrics import confusion_matrix, accuracy_score, precision_score, recall_score, f1_score\n",
    "\n",
    "results = model.predict(x_test)\n",
    "pred_labels = results.argmax(axis=-1)\n",
    "\n",
    "accuracy = accuracy_score(y_test, pred_labels)\n",
    "precision = precision_score(y_test, pred_labels, average='weighted')\n",
    "recall = recall_score(y_test, pred_labels, average='weighted')\n",
    "fscore = f1_score(y_test, pred_labels, average='weighted')\n",
    "print(\"Accuracy: %.4f\" % accuracy)\n",
    "print(\"\\nPrecision: %.4f\\nRecall: %.4f\\nF-score: %.4f\" % (precision, recall, fscore))\n",
    "\n",
    "confusion_matrix(y_test, pred_labels)"
   ]
  },
  {
   "cell_type": "code",
   "execution_count": null,
   "metadata": {},
   "outputs": [],
   "source": []
  }
 ],
 "metadata": {
  "kernelspec": {
   "display_name": "Python 3",
   "language": "python",
   "name": "python3"
  },
  "language_info": {
   "codemirror_mode": {
    "name": "ipython",
    "version": 3
   },
   "file_extension": ".py",
   "mimetype": "text/x-python",
   "name": "python",
   "nbconvert_exporter": "python",
   "pygments_lexer": "ipython3",
   "version": "3.5.2"
  }
 },
 "nbformat": 4,
 "nbformat_minor": 2
}
